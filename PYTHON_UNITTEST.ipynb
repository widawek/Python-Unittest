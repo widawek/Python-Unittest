{
  "nbformat": 4,
  "nbformat_minor": 0,
  "metadata": {
    "colab": {
      "provenance": [],
      "collapsed_sections": [
        "bAuS7xlVI5IF",
        "VIU5mO0kvcLo",
        "w7mrDo0Kvr6c"
      ],
      "authorship_tag": "ABX9TyP14LmgdqCVXFAgBNIk0zHH",
      "include_colab_link": true
    },
    "kernelspec": {
      "name": "python3",
      "display_name": "Python 3"
    },
    "language_info": {
      "name": "python"
    }
  },
  "cells": [
    {
      "cell_type": "markdown",
      "metadata": {
        "id": "view-in-github",
        "colab_type": "text"
      },
      "source": [
        "<a href=\"https://colab.research.google.com/github/widawek/Python-Unittest/blob/master/PYTHON_UNITTEST.ipynb\" target=\"_parent\"><img src=\"https://colab.research.google.com/assets/colab-badge.svg\" alt=\"Open In Colab\"/></a>"
      ]
    },
    {
      "cell_type": "markdown",
      "source": [
        "# ***Assert***"
      ],
      "metadata": {
        "id": "bAuS7xlVI5IF"
      }
    },
    {
      "cell_type": "code",
      "execution_count": null,
      "metadata": {
        "id": "nqutJ6Ic58dn"
      },
      "outputs": [],
      "source": [
        "import unittest"
      ]
    },
    {
      "cell_type": "code",
      "source": [
        "def add(x, y):\n",
        "  return x + y"
      ],
      "metadata": {
        "id": "ujLzhJBR6Xg2"
      },
      "execution_count": null,
      "outputs": []
    },
    {
      "cell_type": "code",
      "source": [
        "class SimpleTest(unittest.TestCase):\n",
        "\n",
        "  def test_add(self):\n",
        "    self.assertEqual(add(3, 4), 7, msg='Powinno byc 7')\n",
        "\n",
        "\n",
        "if __name__ == '__main__':\n",
        "  unittest.main(argv=['first-arg-is-ignored'], exit=False)   # in jupyter and iPython"
      ],
      "metadata": {
        "colab": {
          "base_uri": "https://localhost:8080/"
        },
        "id": "YySHcnis6bCy",
        "outputId": "6b7d4d6e-7271-4b27-b924-bb249d6dea8c"
      },
      "execution_count": null,
      "outputs": [
        {
          "output_type": "stream",
          "name": "stderr",
          "text": [
            ".\n",
            "----------------------------------------------------------------------\n",
            "Ran 1 test in 0.004s\n",
            "\n",
            "OK\n"
          ]
        }
      ]
    },
    {
      "cell_type": "code",
      "source": [
        "help(unittest.TestCase)"
      ],
      "metadata": {
        "id": "JUbOwuxA6nKg"
      },
      "execution_count": null,
      "outputs": []
    },
    {
      "cell_type": "code",
      "source": [],
      "metadata": {
        "id": "I4u-wD-cdKak"
      },
      "execution_count": null,
      "outputs": []
    },
    {
      "cell_type": "code",
      "source": [
        "class SimpleTest(unittest.TestCase):\n",
        "\n",
        "  def test_add(self):\n",
        "    self.assertEqual(add(3, 4), 7, msg='Powinno byc 7')\n",
        "\n",
        "\n",
        "if __name__ == '__main__':\n",
        "  unittest.main(argv=['first-arg-is-ignored'], exit=False)"
      ],
      "metadata": {
        "id": "QT9OStHidKd6",
        "colab": {
          "base_uri": "https://localhost:8080/"
        },
        "outputId": "5200a932-8d31-45a0-c407-1818b0f159c9"
      },
      "execution_count": null,
      "outputs": [
        {
          "output_type": "stream",
          "name": "stderr",
          "text": [
            ".\n",
            "----------------------------------------------------------------------\n",
            "Ran 1 test in 0.006s\n",
            "\n",
            "OK\n"
          ]
        }
      ]
    },
    {
      "cell_type": "code",
      "source": [],
      "metadata": {
        "id": "r1RnrthzU7rh"
      },
      "execution_count": null,
      "outputs": []
    },
    {
      "cell_type": "code",
      "source": [
        "def total_price(net_price, tax_rate, discount=False):\n",
        "    if not discount:\n",
        "        return int(net_price * (1 + tax_rate / 100.0))\n",
        "    else:\n",
        "        return int(net_price * (1 + tax_rate / 100.0) * 0.9)"
      ],
      "metadata": {
        "id": "yp5vQ8YgUDXf"
      },
      "execution_count": null,
      "outputs": []
    },
    {
      "cell_type": "code",
      "source": [
        "total_price(1000, 23, True)"
      ],
      "metadata": {
        "colab": {
          "base_uri": "https://localhost:8080/"
        },
        "id": "PjR-09EHU7Fe",
        "outputId": "7f7a098e-b462-4839-8583-68546a399f25"
      },
      "execution_count": null,
      "outputs": [
        {
          "output_type": "execute_result",
          "data": {
            "text/plain": [
              "1107"
            ]
          },
          "metadata": {},
          "execution_count": 9
        }
      ]
    },
    {
      "cell_type": "code",
      "source": [
        "assert True"
      ],
      "metadata": {
        "id": "pZKNjUepVizS"
      },
      "execution_count": null,
      "outputs": []
    },
    {
      "cell_type": "code",
      "source": [
        "assert False"
      ],
      "metadata": {
        "id": "DcNkxIrTVlg1"
      },
      "execution_count": null,
      "outputs": []
    },
    {
      "cell_type": "code",
      "source": [
        "assert False, \"Message\""
      ],
      "metadata": {
        "id": "vH_hXQEGVnfd"
      },
      "execution_count": null,
      "outputs": []
    },
    {
      "cell_type": "code",
      "source": [
        "bool('')"
      ],
      "metadata": {
        "id": "nHgu_tINVtZE"
      },
      "execution_count": null,
      "outputs": []
    },
    {
      "cell_type": "code",
      "source": [
        "assert ''"
      ],
      "metadata": {
        "id": "2c4T_R2HVzU7"
      },
      "execution_count": null,
      "outputs": []
    },
    {
      "cell_type": "code",
      "source": [
        "assert 0"
      ],
      "metadata": {
        "id": "W1q6FQJgV1Yy"
      },
      "execution_count": null,
      "outputs": []
    },
    {
      "cell_type": "code",
      "source": [
        "assert []"
      ],
      "metadata": {
        "id": "EkBmEvueV3IB"
      },
      "execution_count": null,
      "outputs": []
    },
    {
      "cell_type": "code",
      "source": [
        "assert [[]]"
      ],
      "metadata": {
        "id": "WXLbA3EAV4Rt"
      },
      "execution_count": null,
      "outputs": []
    },
    {
      "cell_type": "code",
      "source": [
        "condition = False\n",
        "# if not condition:\n",
        "#     raise AssertionError('Assertion Error')\n",
        "\n",
        "assert condition"
      ],
      "metadata": {
        "colab": {
          "base_uri": "https://localhost:8080/",
          "height": 217
        },
        "id": "5UPoWfFPWCuW",
        "outputId": "15f20043-7544-460a-de36-4a572552909b"
      },
      "execution_count": null,
      "outputs": [
        {
          "output_type": "error",
          "ename": "AssertionError",
          "evalue": "",
          "traceback": [
            "\u001b[0;31m---------------------------------------------------------------------------\u001b[0m",
            "\u001b[0;31mAssertionError\u001b[0m                            Traceback (most recent call last)",
            "\u001b[0;32m<ipython-input-22-db0fe9f1456b>\u001b[0m in \u001b[0;36m<cell line: 5>\u001b[0;34m()\u001b[0m\n\u001b[1;32m      3\u001b[0m \u001b[0;31m#     raise AssertionError('Assertion Error')\u001b[0m\u001b[0;34m\u001b[0m\u001b[0;34m\u001b[0m\u001b[0m\n\u001b[1;32m      4\u001b[0m \u001b[0;34m\u001b[0m\u001b[0m\n\u001b[0;32m----> 5\u001b[0;31m \u001b[0;32massert\u001b[0m \u001b[0mcondition\u001b[0m\u001b[0;34m\u001b[0m\u001b[0;34m\u001b[0m\u001b[0m\n\u001b[0m",
            "\u001b[0;31mAssertionError\u001b[0m: "
          ]
        }
      ]
    },
    {
      "cell_type": "code",
      "source": [
        "amount = 1000\n",
        "tax_rate = 0.15\n",
        "\n",
        "assert amount >= 0, 'The amount sholud not be negative'\n",
        "assert 0 < tax_rate < 1, 'Tax rate should be beetween zero and one'"
      ],
      "metadata": {
        "id": "QXkFWP_pWldr"
      },
      "execution_count": null,
      "outputs": []
    },
    {
      "cell_type": "markdown",
      "source": [
        "# ***Unittest Basic***"
      ],
      "metadata": {
        "id": "VIU5mO0kvcLo"
      }
    },
    {
      "cell_type": "code",
      "source": [
        "def area(width, height):\n",
        "    \"\"\"The function returns area of the rectangle\"\"\"\n",
        "\n",
        "    if not (isinstance(width, (int, float)) and\n",
        "            isinstance(height, (int, float))):\n",
        "        raise TypeError('The width and height must be of type int or float.')\n",
        "\n",
        "    if not (width > 0 and height > 0):\n",
        "        raise ValueError('The width and height must be positive.')\n",
        "\n",
        "    return width * height"
      ],
      "metadata": {
        "id": "VACp8lqnWuof"
      },
      "execution_count": null,
      "outputs": []
    },
    {
      "cell_type": "code",
      "source": [
        "width = int(input('Enter the width of the ractangle: '))\n",
        "assert width > 0, 'The width value of the ractangle must be positive'\n",
        "height = int(input('Enter the height of the ractangle: '))\n",
        "assert height > 0, 'The height value of the ractangle must be positive'\n",
        "\n",
        "area = width * height\n",
        "print(f'Area: {area}')"
      ],
      "metadata": {
        "colab": {
          "base_uri": "https://localhost:8080/"
        },
        "id": "3TRhSgtsXNEX",
        "outputId": "ecd1f9ea-0424-4298-f8f7-17ea8aa2dd68"
      },
      "execution_count": null,
      "outputs": [
        {
          "output_type": "stream",
          "name": "stdout",
          "text": [
            "Enter the width of the ractangle: 45\n",
            "Enter the height of the ractangle: 938\n",
            "Area: 42210\n"
          ]
        }
      ]
    },
    {
      "cell_type": "code",
      "source": [
        "import unittest\n",
        "\n",
        "\n",
        "def area(width, height):\n",
        "    \"\"\"The function returns area of the rectangle\"\"\"\n",
        "\n",
        "    if not (isinstance(width, (int, float)) and\n",
        "            isinstance(height, (int, float))):\n",
        "        raise TypeError('The width and height must be of type int or float.')\n",
        "\n",
        "    if not (width > 0 and height > 0):\n",
        "        raise ValueError('The width and height must be positive.')\n",
        "\n",
        "    return width * height\n",
        "\n",
        "\n",
        "class TestArea(unittest.TestCase):\n",
        "\n",
        "    def test_area(self):\n",
        "        self.assertEqual(area(4, 5), 20, 'message')\n",
        "\n",
        "    def test_area_incorrect_type_should_raise_error(self):\n",
        "        self.assertRaises(TypeError, area, '4', '5')\n",
        "        self.assertRaises(TypeError, area, 4, '5')\n",
        "\n",
        "    def test_area_negative_value_should_raise_error(self):\n",
        "        self.assertRaises(ValueError, area, -1, 0)\n",
        "        self.assertRaises(ValueError, area, 4, -70)\n",
        "\n",
        "\n",
        "if __name__ == '__main__':\n",
        "    # unittest.main(argv=['first-arg-is-ignored'], exit=False)\n",
        "    unittest.main(verbosity=2, argv=['first-arg-is-ignored'], exit=False)"
      ],
      "metadata": {
        "colab": {
          "base_uri": "https://localhost:8080/"
        },
        "id": "H87plweFXXMh",
        "outputId": "174553ad-8b5a-47ec-93b5-b239707441ff"
      },
      "execution_count": null,
      "outputs": [
        {
          "output_type": "stream",
          "name": "stderr",
          "text": [
            "test_area (__main__.TestArea) ... ok\n",
            "test_area_incorrect_type_should_raise_error (__main__.TestArea) ... ok\n",
            "test_area_negative_value_should_raise_error (__main__.TestArea) ... ok\n",
            "\n",
            "----------------------------------------------------------------------\n",
            "Ran 3 tests in 0.016s\n",
            "\n",
            "OK\n"
          ]
        }
      ]
    },
    {
      "cell_type": "code",
      "source": [],
      "metadata": {
        "id": "4r-KZNtDkeos"
      },
      "execution_count": null,
      "outputs": []
    },
    {
      "cell_type": "code",
      "source": [
        "import unittest\n",
        "\n",
        "\n",
        "def area(width, height):\n",
        "    \"\"\"The function returns area of the rectangle\"\"\"\n",
        "\n",
        "    if not (isinstance(width, (int, float)) and\n",
        "            isinstance(height, (int, float))):\n",
        "        raise TypeError('The width and height must be of type int or float.')\n",
        "\n",
        "    if not (width > 0 and height > 0):\n",
        "        raise ValueError('The width and height must be positive.')\n",
        "\n",
        "    return width * height\n",
        "\n",
        "\n",
        "class TestArea(unittest.TestCase):\n",
        "\n",
        "    def test_area_1(self):\n",
        "        self.assertEqual(area(4, 5), 20, 'dobrze')\n",
        "\n",
        "    def test_area_2(self):\n",
        "        self.assertEqual(area(4, 5), 21, 'źle')\n",
        "\n",
        "    def test_area_3(self):\n",
        "        raise AssertionError('Error message')\n",
        "\n",
        "    def test_area_4(self):\n",
        "        raise TypeError('Error message')\n",
        "\n",
        "if __name__ == '__main__':\n",
        "    # unittest.main(argv=['first-arg-is-ignored'], exit=False)\n",
        "    unittest.main(verbosity=2, argv=['first-arg-is-ignored'], exit=False)"
      ],
      "metadata": {
        "colab": {
          "base_uri": "https://localhost:8080/"
        },
        "id": "V8FAJkPwnZ6v",
        "outputId": "92581caa-2c26-42b4-9a2f-ceafe7aa6930"
      },
      "execution_count": null,
      "outputs": [
        {
          "output_type": "stream",
          "name": "stderr",
          "text": [
            "test_area_1 (__main__.TestArea) ... ok\n",
            "test_area_2 (__main__.TestArea) ... FAIL\n",
            "test_area_3 (__main__.TestArea) ... FAIL\n",
            "test_area_4 (__main__.TestArea) ... ERROR\n",
            "\n",
            "======================================================================\n",
            "ERROR: test_area_4 (__main__.TestArea)\n",
            "----------------------------------------------------------------------\n",
            "Traceback (most recent call last):\n",
            "  File \"<ipython-input-10-c4d73652d665>\", line 28, in test_area_4\n",
            "    raise TypeError('Error message')\n",
            "TypeError: Error message\n",
            "\n",
            "======================================================================\n",
            "FAIL: test_area_2 (__main__.TestArea)\n",
            "----------------------------------------------------------------------\n",
            "Traceback (most recent call last):\n",
            "  File \"<ipython-input-10-c4d73652d665>\", line 22, in test_area_2\n",
            "    self.assertEqual(area(4, 5), 21, 'źle')\n",
            "AssertionError: 20 != 21 : źle\n",
            "\n",
            "======================================================================\n",
            "FAIL: test_area_3 (__main__.TestArea)\n",
            "----------------------------------------------------------------------\n",
            "Traceback (most recent call last):\n",
            "  File \"<ipython-input-10-c4d73652d665>\", line 25, in test_area_3\n",
            "    raise AssertionError('Error message')\n",
            "AssertionError: Error message\n",
            "\n",
            "----------------------------------------------------------------------\n",
            "Ran 4 tests in 0.021s\n",
            "\n",
            "FAILED (failures=2, errors=1)\n"
          ]
        }
      ]
    },
    {
      "cell_type": "code",
      "source": [],
      "metadata": {
        "id": "if-1QH4no9Vm"
      },
      "execution_count": null,
      "outputs": []
    },
    {
      "cell_type": "code",
      "source": [
        "%%writefile function.py\n",
        "import unittest\n",
        "\n",
        "\n",
        "def area(width, height):\n",
        "    \"\"\"The function returns area of the rectangle\"\"\"\n",
        "\n",
        "    if not (isinstance(width, (int, float)) and\n",
        "            isinstance(height, (int, float))):\n",
        "        raise TypeError('The width and height must be of type int or float.')\n",
        "\n",
        "    if not (width > 0 and height > 0):\n",
        "        raise ValueError('The width and height must be positive.')\n",
        "\n",
        "    return width * height\n",
        "\n",
        "\n",
        "class TestArea(unittest.TestCase):\n",
        "\n",
        "    def test_area(self):\n",
        "        self.assertEqual(area(4, 5), 20, 'message')\n",
        "\n",
        "    def test_area_incorrect_type_should_raise_error(self):\n",
        "        self.assertRaises(TypeError, area, '4', '5')\n",
        "        self.assertRaises(TypeError, area, 4, '5')\n",
        "\n",
        "    def test_area_negative_value_should_raise_error(self):\n",
        "        self.assertRaises(ValueError, area, -1, 0)\n",
        "        self.assertRaises(ValueError, area, 4, -70)\n",
        "\n",
        "\n",
        "# if __name__ == '__main__':\n",
        "#     # unittest.main(argv=['first-arg-is-ignored'], exit=False)\n",
        "#     unittest.main(verbosity=2, argv=['first-arg-is-ignored'], exit=False)"
      ],
      "metadata": {
        "colab": {
          "base_uri": "https://localhost:8080/"
        },
        "id": "UlNNtRdMo9ey",
        "outputId": "04d8706e-b214-4314-afb0-96ec9ceb19ae"
      },
      "execution_count": null,
      "outputs": [
        {
          "output_type": "stream",
          "name": "stdout",
          "text": [
            "Overwriting function.py\n"
          ]
        }
      ]
    },
    {
      "cell_type": "code",
      "source": [
        "!python -m unittest function.py -v"
      ],
      "metadata": {
        "colab": {
          "base_uri": "https://localhost:8080/"
        },
        "id": "eNKnXHuVpXB9",
        "outputId": "006ad7a0-1d38-4f6a-ec0c-64fd4e4e1ddc"
      },
      "execution_count": null,
      "outputs": [
        {
          "output_type": "stream",
          "name": "stdout",
          "text": [
            "test_area (function.TestArea) ... ok\n",
            "test_area_incorrect_type_should_raise_error (function.TestArea) ... ok\n",
            "test_area_negative_value_should_raise_error (function.TestArea) ... ok\n",
            "\n",
            "----------------------------------------------------------------------\n",
            "Ran 3 tests in 0.001s\n",
            "\n",
            "OK\n"
          ]
        }
      ]
    },
    {
      "cell_type": "code",
      "source": [],
      "metadata": {
        "id": "zzeP0Xczq6d8"
      },
      "execution_count": null,
      "outputs": []
    },
    {
      "cell_type": "code",
      "source": [
        "%%writefile 05_test_class.py\n",
        "import unittest\n",
        "\n",
        "\n",
        "class TestClass(unittest.TestCase):\n",
        "\n",
        "    def test_case_1(self):\n",
        "        self.assertEqual('John Smith'.split(), [\"John\", \"Smith\"])\n",
        "\n",
        "    def test_case_2(self):\n",
        "        self.assertEqual('3.9'.split('.'), ['3', '9'])\n",
        "\n",
        "    def test_case_3(self):\n",
        "        self.assertEqual('#'.join(['sport', 'gym']), 'sport#gym')\n",
        "\n",
        "    def test_case_4(self):\n",
        "        self.assertTrue('apple'.islower())"
      ],
      "metadata": {
        "colab": {
          "base_uri": "https://localhost:8080/"
        },
        "id": "xJ7xH03gq6ou",
        "outputId": "a90f6c56-1ece-49ca-dd46-42312813eb3f"
      },
      "execution_count": null,
      "outputs": [
        {
          "output_type": "stream",
          "name": "stdout",
          "text": [
            "Overwriting 05_test_class.py\n"
          ]
        }
      ]
    },
    {
      "cell_type": "code",
      "source": [
        "!python -m unittest 05_test_class.py"
      ],
      "metadata": {
        "colab": {
          "base_uri": "https://localhost:8080/"
        },
        "id": "1JN1Ksx5rhrv",
        "outputId": "2b1d8d8e-317e-4add-edea-016921c9f84e"
      },
      "execution_count": null,
      "outputs": [
        {
          "output_type": "stream",
          "name": "stdout",
          "text": [
            "....\n",
            "----------------------------------------------------------------------\n",
            "Ran 4 tests in 0.000s\n",
            "\n",
            "OK\n"
          ]
        }
      ]
    },
    {
      "cell_type": "code",
      "source": [],
      "metadata": {
        "id": "_RFuH5dS-5fu"
      },
      "execution_count": null,
      "outputs": []
    },
    {
      "cell_type": "code",
      "source": [
        "%%writefile 06_test_execition_order.py\n",
        "\n",
        "import unittest\n",
        "\n",
        "class TestClass(unittest.TestCase):\n",
        "\n",
        "    def test_case_4(self):\n",
        "        self.assertTrue('apple'.islower())\n",
        "\n",
        "    def test_case_1(self):\n",
        "        self.assertEqual('John Smith'.split(), [\"John\", \"Smith\"])\n",
        "\n",
        "    def test_case_2(self):\n",
        "        self.assertEqual('3.9'.split('.'), ['3', '9'])\n",
        "\n",
        "    def test_case_3(self):\n",
        "        self.assertEqual('#'.join(['sport', 'gym']), 'sport#gym')"
      ],
      "metadata": {
        "colab": {
          "base_uri": "https://localhost:8080/"
        },
        "id": "JTE-10gi_EP7",
        "outputId": "70c26936-9e68-4b5f-c26d-f121fe5b5ae9"
      },
      "execution_count": null,
      "outputs": [
        {
          "output_type": "stream",
          "name": "stdout",
          "text": [
            "Writing 06_test_execition_order.py\n"
          ]
        }
      ]
    },
    {
      "cell_type": "code",
      "source": [
        "!python -m unittest 06_test_execition_order.py -v"
      ],
      "metadata": {
        "colab": {
          "base_uri": "https://localhost:8080/"
        },
        "id": "Ms6DnH8a_KmY",
        "outputId": "281f5d93-9127-4bc7-d02e-3fc9bec99c29"
      },
      "execution_count": null,
      "outputs": [
        {
          "output_type": "stream",
          "name": "stdout",
          "text": [
            "test_case_1 (06_test_class.TestClass) ... ok\n",
            "test_case_2 (06_test_class.TestClass) ... ok\n",
            "test_case_3 (06_test_class.TestClass) ... ok\n",
            "test_case_4 (06_test_class.TestClass) ... ok\n",
            "\n",
            "----------------------------------------------------------------------\n",
            "Ran 4 tests in 0.001s\n",
            "\n",
            "OK\n"
          ]
        }
      ]
    },
    {
      "cell_type": "code",
      "source": [
        "%%writefile 07_class_test_execition_order.py\n",
        "import unittest\n",
        "\n",
        "class TestClass4(unittest.TestCase):\n",
        "\n",
        "    def test_case_1(self):\n",
        "        self.assertTrue('apple'.islower())\n",
        "\n",
        "class TestClass1(unittest.TestCase):\n",
        "\n",
        "    def test_case_1(self):\n",
        "        self.assertEqual('John Smith'.split(), [\"John\", \"Smith\"])\n",
        "\n",
        "class TestClass2(unittest.TestCase):\n",
        "\n",
        "    def test_case_1(self):\n",
        "        self.assertEqual('3.9'.split('.'), ['3', '9'])\n",
        "\n",
        "class TestClass3(unittest.TestCase):\n",
        "\n",
        "    def test_case_1(self):\n",
        "        self.assertEqual('#'.join(['sport', 'gym']), 'sport#gym')"
      ],
      "metadata": {
        "colab": {
          "base_uri": "https://localhost:8080/"
        },
        "id": "UeFbEZLk_h5s",
        "outputId": "11f4e01e-db2b-420c-9215-784fe1c11625"
      },
      "execution_count": null,
      "outputs": [
        {
          "output_type": "stream",
          "name": "stdout",
          "text": [
            "Overwriting 07_class_test_execition_order.py\n"
          ]
        }
      ]
    },
    {
      "cell_type": "code",
      "source": [
        "!python -m unittest 07_class_test_execition_order.py -v"
      ],
      "metadata": {
        "colab": {
          "base_uri": "https://localhost:8080/"
        },
        "id": "fMrouH59ABee",
        "outputId": "dc664aca-29e4-4eca-975b-2e31cdcf565d"
      },
      "execution_count": null,
      "outputs": [
        {
          "output_type": "stream",
          "name": "stdout",
          "text": [
            "test_case_5 (07_class_test_execition_order.TestClass1) ... ok\n",
            "test_case_1 (07_class_test_execition_order.TestClass2) ... ok\n",
            "test_case_2 (07_class_test_execition_order.TestClass3) ... ok\n",
            "test_case_ (07_class_test_execition_order.TestClass4) ... ok\n",
            "\n",
            "----------------------------------------------------------------------\n",
            "Ran 4 tests in 0.000s\n",
            "\n",
            "OK\n"
          ]
        }
      ]
    },
    {
      "cell_type": "code",
      "source": [
        "%%writefile 08_test_execution_examples.py\n",
        "import unittest\n",
        "\n",
        "\n",
        "class TestClass1(unittest.TestCase):\n",
        "\n",
        "    def test_case_1(self):\n",
        "        self.assertEqual('John Smith'.split(), [\"John\", \"Smith\"])\n",
        "\n",
        "    def test_case_2(self):\n",
        "        self.assertTrue('apple'.islower())\n",
        "\n",
        "class TestClass2(unittest.TestCase):\n",
        "\n",
        "    def test_case_1(self):\n",
        "        self.assertEqual('3.9'.split('.'), ['3', '9'])\n",
        "\n",
        "class TestClass3(unittest.TestCase):\n",
        "\n",
        "    def test_case_1(self):\n",
        "        self.assertEqual('#'.join(['sport', 'gym']), 'sport#gym')"
      ],
      "metadata": {
        "colab": {
          "base_uri": "https://localhost:8080/"
        },
        "id": "KCMjETotrIml",
        "outputId": "84aec564-fdca-49e0-c8bc-2463fec43cb6"
      },
      "execution_count": 2,
      "outputs": [
        {
          "output_type": "stream",
          "name": "stdout",
          "text": [
            "Writing 08_test_execution_examples.py\n"
          ]
        }
      ]
    },
    {
      "cell_type": "code",
      "source": [
        "!python -m unittest 08_test_execution_examples.py -v"
      ],
      "metadata": {
        "colab": {
          "base_uri": "https://localhost:8080/"
        },
        "id": "cArT9fKgrPDc",
        "outputId": "000eecf4-be72-44da-aad1-146c82b0256e"
      },
      "execution_count": 3,
      "outputs": [
        {
          "output_type": "stream",
          "name": "stdout",
          "text": [
            "test_case_1 (08_test_execution_examples.TestClass1) ... ok\n",
            "test_case_2 (08_test_execution_examples.TestClass1) ... ok\n",
            "test_case_1 (08_test_execution_examples.TestClass2) ... ok\n",
            "test_case_1 (08_test_execution_examples.TestClass3) ... ok\n",
            "\n",
            "----------------------------------------------------------------------\n",
            "Ran 4 tests in 0.000s\n",
            "\n",
            "OK\n"
          ]
        }
      ]
    },
    {
      "cell_type": "code",
      "source": [
        "!python -m unittest 08_test_execution_examples.TestClass1 -v"
      ],
      "metadata": {
        "colab": {
          "base_uri": "https://localhost:8080/"
        },
        "id": "IeKAF5wLr1zd",
        "outputId": "20e5f72b-617f-49b1-88e3-cfb7fccf43d1"
      },
      "execution_count": 4,
      "outputs": [
        {
          "output_type": "stream",
          "name": "stdout",
          "text": [
            "test_case_1 (08_test_execution_examples.TestClass1) ... ok\n",
            "test_case_2 (08_test_execution_examples.TestClass1) ... ok\n",
            "\n",
            "----------------------------------------------------------------------\n",
            "Ran 2 tests in 0.000s\n",
            "\n",
            "OK\n"
          ]
        }
      ]
    },
    {
      "cell_type": "code",
      "source": [
        "!python -m unittest 08_test_execution_examples.TestClass1.test_case_2 -v"
      ],
      "metadata": {
        "colab": {
          "base_uri": "https://localhost:8080/"
        },
        "id": "fnFNjysor_aZ",
        "outputId": "ce5768a8-3849-4804-bac4-016524459a67"
      },
      "execution_count": 5,
      "outputs": [
        {
          "output_type": "stream",
          "name": "stdout",
          "text": [
            "test_case_2 (08_test_execution_examples.TestClass1) ... ok\n",
            "\n",
            "----------------------------------------------------------------------\n",
            "Ran 1 test in 0.000s\n",
            "\n",
            "OK\n"
          ]
        }
      ]
    },
    {
      "cell_type": "code",
      "source": [
        "%%writefile 09_test_execution_examples.py\n",
        "import unittest\n",
        "\n",
        "\n",
        "class TestClass1(unittest.TestCase):\n",
        "\n",
        "    def test_case_1(self):\n",
        "        self.assertEqual('John Smith'.split(), [\"John\", \"Smith\"])\n",
        "\n",
        "    def test_case_2(self):\n",
        "        self.assertTrue('Apple'.islower())\n",
        "\n",
        "    def test_case_3(self):\n",
        "        self.assertEqual('#'.join(['sport', 'gym']), '#sport#gym')\n",
        "\n",
        "\n",
        "class TestClass2(unittest.TestCase):\n",
        "\n",
        "    def test_case_1(self):\n",
        "        self.assertEqual('3.9'.split('.'), ['3', '9'])"
      ],
      "metadata": {
        "colab": {
          "base_uri": "https://localhost:8080/"
        },
        "id": "jJp7DCx6sIV6",
        "outputId": "db4e92c9-43a5-485c-ac1d-20818f2bda05"
      },
      "execution_count": 10,
      "outputs": [
        {
          "output_type": "stream",
          "name": "stdout",
          "text": [
            "Overwriting 09_test_execution_examples.py\n"
          ]
        }
      ]
    },
    {
      "cell_type": "code",
      "source": [
        "!python -m unittest 09_test_execution_examples.py -v"
      ],
      "metadata": {
        "colab": {
          "base_uri": "https://localhost:8080/"
        },
        "id": "Y-Ak9u2Rsui8",
        "outputId": "8b4e0677-82cb-4df1-979b-25d4a7cc9fba"
      },
      "execution_count": 11,
      "outputs": [
        {
          "output_type": "stream",
          "name": "stdout",
          "text": [
            "test_case_1 (09_test_execution_examples.TestClass1) ... ok\n",
            "test_case_2 (09_test_execution_examples.TestClass1) ... FAIL\n",
            "test_case_3 (09_test_execution_examples.TestClass1) ... FAIL\n",
            "test_case_1 (09_test_execution_examples.TestClass2) ... ok\n",
            "\n",
            "======================================================================\n",
            "FAIL: test_case_2 (09_test_execution_examples.TestClass1)\n",
            "----------------------------------------------------------------------\n",
            "Traceback (most recent call last):\n",
            "  File \"/content/09_test_execution_examples.py\", line 10, in test_case_2\n",
            "    self.assertTrue('Apple'.islower())\n",
            "AssertionError: False is not true\n",
            "\n",
            "======================================================================\n",
            "FAIL: test_case_3 (09_test_execution_examples.TestClass1)\n",
            "----------------------------------------------------------------------\n",
            "Traceback (most recent call last):\n",
            "  File \"/content/09_test_execution_examples.py\", line 13, in test_case_3\n",
            "    self.assertEqual('#'.join(['sport', 'gym']), '#sport#gym')\n",
            "AssertionError: 'sport#gym' != '#sport#gym'\n",
            "- sport#gym\n",
            "+ #sport#gym\n",
            "? +\n",
            "\n",
            "\n",
            "----------------------------------------------------------------------\n",
            "Ran 4 tests in 0.001s\n",
            "\n",
            "FAILED (failures=2)\n"
          ]
        }
      ]
    },
    {
      "cell_type": "code",
      "source": [
        "!python -m unittest 09_test_execution_examples.py -v -f  # -f flag is use to end test on first fail"
      ],
      "metadata": {
        "colab": {
          "base_uri": "https://localhost:8080/"
        },
        "id": "jNsYKuWctCnl",
        "outputId": "ae7e72fd-b983-4711-c1d6-83c0aa848ed3"
      },
      "execution_count": 14,
      "outputs": [
        {
          "output_type": "stream",
          "name": "stdout",
          "text": [
            "test_case_1 (09_test_execution_examples.TestClass1) ... ok\n",
            "test_case_2 (09_test_execution_examples.TestClass1) ... FAIL\n",
            "\n",
            "======================================================================\n",
            "FAIL: test_case_2 (09_test_execution_examples.TestClass1)\n",
            "----------------------------------------------------------------------\n",
            "Traceback (most recent call last):\n",
            "  File \"/content/09_test_execution_examples.py\", line 10, in test_case_2\n",
            "    self.assertTrue('Apple'.islower())\n",
            "AssertionError: False is not true\n",
            "\n",
            "----------------------------------------------------------------------\n",
            "Ran 2 tests in 0.000s\n",
            "\n",
            "FAILED (failures=1)\n"
          ]
        }
      ]
    },
    {
      "cell_type": "code",
      "source": [],
      "metadata": {
        "id": "phTEYXmYtO38"
      },
      "execution_count": null,
      "outputs": []
    },
    {
      "cell_type": "markdown",
      "source": [
        "# ***Assertion methods***"
      ],
      "metadata": {
        "id": "w7mrDo0Kvr6c"
      }
    },
    {
      "cell_type": "code",
      "source": [
        "%%writefile 01_assertEqual.py\n",
        "import unittest\n",
        "\n",
        "\n",
        "class TestClass(unittest.TestCase):\n",
        "\n",
        "    def test_case_1(self):\n",
        "        self.assertEqual('aws'.upper(), 'AWS')\n",
        "\n",
        "    def test_case_2(self):\n",
        "        self.assertEqual('aws'.upper(), 'AWS')\n",
        "\n",
        "    def test_case_3(self):\n",
        "        self.assertEqual('3.9.0'.split('.'), ['3', '9', 0])\n",
        "\n",
        "    def test_case_4(self):\n",
        "        self.assertEqual(tuple('3.9.0'.split('.')), ('3', '9', 0))\n",
        "\n",
        "    def test_case_5(self):\n",
        "        self.assertEqual({2, 3, 4}, {4, 3, 2, 1})\n",
        "\n",
        "    def test_case_6(self):\n",
        "        self.assertNotEqual('aws'.upper(), 'aws')"
      ],
      "metadata": {
        "colab": {
          "base_uri": "https://localhost:8080/"
        },
        "id": "rbAfaG6zvvz5",
        "outputId": "13494536-47e2-4d7b-cc63-9be1bc1239fa"
      },
      "execution_count": 40,
      "outputs": [
        {
          "output_type": "stream",
          "name": "stdout",
          "text": [
            "Overwriting 01_assertEqual.py\n"
          ]
        }
      ]
    },
    {
      "cell_type": "code",
      "source": [
        "!python -m unittest 01_assertEqual.py -v"
      ],
      "metadata": {
        "colab": {
          "base_uri": "https://localhost:8080/"
        },
        "id": "rMayJQ7oxFPi",
        "outputId": "d2152953-19f9-46cb-eed2-7131cb3d11cd"
      },
      "execution_count": 41,
      "outputs": [
        {
          "output_type": "stream",
          "name": "stdout",
          "text": [
            "test_case_1 (01_assertEqual.TestClass) ... ok\n",
            "test_case_2 (01_assertEqual.TestClass) ... ok\n",
            "test_case_3 (01_assertEqual.TestClass) ... FAIL\n",
            "test_case_4 (01_assertEqual.TestClass) ... FAIL\n",
            "test_case_5 (01_assertEqual.TestClass) ... FAIL\n",
            "test_case_6 (01_assertEqual.TestClass) ... ok\n",
            "\n",
            "======================================================================\n",
            "FAIL: test_case_3 (01_assertEqual.TestClass)\n",
            "----------------------------------------------------------------------\n",
            "Traceback (most recent call last):\n",
            "  File \"/content/01_assertEqual.py\", line 13, in test_case_3\n",
            "    self.assertEqual('3.9.0'.split('.'), ['3', '9', 0])\n",
            "AssertionError: Lists differ: ['3', '9', '0'] != ['3', '9', 0]\n",
            "\n",
            "First differing element 2:\n",
            "'0'\n",
            "0\n",
            "\n",
            "- ['3', '9', '0']\n",
            "?            - -\n",
            "\n",
            "+ ['3', '9', 0]\n",
            "\n",
            "======================================================================\n",
            "FAIL: test_case_4 (01_assertEqual.TestClass)\n",
            "----------------------------------------------------------------------\n",
            "Traceback (most recent call last):\n",
            "  File \"/content/01_assertEqual.py\", line 16, in test_case_4\n",
            "    self.assertEqual(tuple('3.9.0'.split('.')), ('3', '9', 0))\n",
            "AssertionError: Tuples differ: ('3', '9', '0') != ('3', '9', 0)\n",
            "\n",
            "First differing element 2:\n",
            "'0'\n",
            "0\n",
            "\n",
            "- ('3', '9', '0')\n",
            "?            - -\n",
            "\n",
            "+ ('3', '9', 0)\n",
            "\n",
            "======================================================================\n",
            "FAIL: test_case_5 (01_assertEqual.TestClass)\n",
            "----------------------------------------------------------------------\n",
            "Traceback (most recent call last):\n",
            "  File \"/content/01_assertEqual.py\", line 19, in test_case_5\n",
            "    self.assertEqual({2, 3, 4}, {4, 3, 2, 1})\n",
            "AssertionError: Items in the second set but not the first:\n",
            "1\n",
            "\n",
            "----------------------------------------------------------------------\n",
            "Ran 6 tests in 0.001s\n",
            "\n",
            "FAILED (failures=3)\n"
          ]
        }
      ]
    },
    {
      "cell_type": "code",
      "source": [
        "## AlmostEqual method rounds to the seventh decimal place\n",
        "##\n",
        "0.2 + 0.1 == 0.3"
      ],
      "metadata": {
        "colab": {
          "base_uri": "https://localhost:8080/"
        },
        "id": "KloIBm7o3pXD",
        "outputId": "e21a02d9-69b9-4fb2-9db7-5856f786b8d4"
      },
      "execution_count": 47,
      "outputs": [
        {
          "output_type": "execute_result",
          "data": {
            "text/plain": [
              "False"
            ]
          },
          "metadata": {},
          "execution_count": 47
        }
      ]
    },
    {
      "cell_type": "code",
      "source": [
        "%%writefile 02_assertAlmostEqual.py\n",
        "import unittest\n",
        "\n",
        "\n",
        "class TestClass(unittest.TestCase):\n",
        "\n",
        "    def test_case_1(self):\n",
        "        self.assertEqual(0.1 + 0.2, 0.3)\n",
        "\n",
        "    def test_case_2(self):\n",
        "        self.assertAlmostEqual(0.1 + 0.2, 0.3)\n",
        "\n",
        "    def test_case_3(self):\n",
        "        self.assertAlmostEqual(0.1234567, 0.1234567)\n",
        "\n",
        "    def test_case_4(self):\n",
        "        self.assertAlmostEqual(0.12345678, 0.12345679)\n",
        "\n",
        "    def test_case_5(self):\n",
        "        self.assertAlmostEqual(0.1234567, 0.1234568)\n",
        "\n",
        "    def test_case_6(self):\n",
        "        self.assertAlmostEqual(0.1234567, 0.1234568, 6)"
      ],
      "metadata": {
        "colab": {
          "base_uri": "https://localhost:8080/"
        },
        "id": "MpQXpJIr1dX_",
        "outputId": "1cee5bd8-6c1a-448c-cd03-795cf65d6450"
      },
      "execution_count": 63,
      "outputs": [
        {
          "output_type": "stream",
          "name": "stdout",
          "text": [
            "Writing 02_assertAlmostEqual.py\n"
          ]
        }
      ]
    },
    {
      "cell_type": "code",
      "source": [
        "!python -m unittest 02_assertAlmostEqual.py -v"
      ],
      "metadata": {
        "colab": {
          "base_uri": "https://localhost:8080/"
        },
        "id": "CrL9xlbn3MT0",
        "outputId": "0f8fe48b-8a35-4075-9827-0c6caee55a35"
      },
      "execution_count": 64,
      "outputs": [
        {
          "output_type": "stream",
          "name": "stdout",
          "text": [
            "test_case_1 (02_assertAlmostEqual.TestClass) ... FAIL\n",
            "test_case_2 (02_assertAlmostEqual.TestClass) ... ok\n",
            "test_case_3 (02_assertAlmostEqual.TestClass) ... ok\n",
            "test_case_4 (02_assertAlmostEqual.TestClass) ... ok\n",
            "test_case_5 (02_assertAlmostEqual.TestClass) ... FAIL\n",
            "test_case_6 (02_assertAlmostEqual.TestClass) ... ok\n",
            "\n",
            "======================================================================\n",
            "FAIL: test_case_1 (02_assertAlmostEqual.TestClass)\n",
            "----------------------------------------------------------------------\n",
            "Traceback (most recent call last):\n",
            "  File \"/content/02_assertAlmostEqual.py\", line 7, in test_case_1\n",
            "    self.assertEqual(0.1 + 0.2, 0.3)\n",
            "AssertionError: 0.30000000000000004 != 0.3\n",
            "\n",
            "======================================================================\n",
            "FAIL: test_case_5 (02_assertAlmostEqual.TestClass)\n",
            "----------------------------------------------------------------------\n",
            "Traceback (most recent call last):\n",
            "  File \"/content/02_assertAlmostEqual.py\", line 19, in test_case_5\n",
            "    self.assertAlmostEqual(0.1234567, 0.1234568)\n",
            "AssertionError: 0.1234567 != 0.1234568 within 7 places (1.0000000000287557e-07 difference)\n",
            "\n",
            "----------------------------------------------------------------------\n",
            "Ran 6 tests in 0.001s\n",
            "\n",
            "FAILED (failures=2)\n"
          ]
        }
      ]
    },
    {
      "cell_type": "code",
      "source": [
        "%%writefile 03_assertGreater.py\n",
        "import unittest\n",
        "\n",
        "\n",
        "class TestClass(unittest.TestCase):\n",
        "\n",
        "    def test_case_1(self):\n",
        "        self.assertGreater(0.2, 0.1)\n",
        "\n",
        "    def test_case_2(self):\n",
        "        self.assertGreaterEqual(0.2, 0.2)\n",
        "\n",
        "    def test_case_3(self):\n",
        "        self.assertLess(0.3, 0.4)\n",
        "\n",
        "    def test_case_4(self):\n",
        "        self.assertLessEqual(0.4, 0.4)"
      ],
      "metadata": {
        "colab": {
          "base_uri": "https://localhost:8080/"
        },
        "id": "C-f0CZDa3neS",
        "outputId": "aa4daacd-e1ff-42c6-b878-48e140f32dcf"
      },
      "execution_count": 70,
      "outputs": [
        {
          "output_type": "stream",
          "name": "stdout",
          "text": [
            "Overwriting 03_assertGreater.py\n"
          ]
        }
      ]
    },
    {
      "cell_type": "code",
      "source": [
        "!python -m unittest 03_assertGreater.py -v"
      ],
      "metadata": {
        "colab": {
          "base_uri": "https://localhost:8080/"
        },
        "id": "tsiXq2d36DN8",
        "outputId": "e946aad3-e00f-48ea-a76f-fb2bc31fbc47"
      },
      "execution_count": 71,
      "outputs": [
        {
          "output_type": "stream",
          "name": "stdout",
          "text": [
            "test_case_1 (03_assertGreater.TestClass) ... ok\n",
            "test_case_2 (03_assertGreater.TestClass) ... ok\n",
            "test_case_3 (03_assertGreater.TestClass) ... ok\n",
            "test_case_4 (03_assertGreater.TestClass) ... ok\n",
            "\n",
            "----------------------------------------------------------------------\n",
            "Ran 4 tests in 0.000s\n",
            "\n",
            "OK\n"
          ]
        }
      ]
    },
    {
      "cell_type": "code",
      "source": [
        "%%writefile 04_assertTrue.py\n",
        "import unittest\n",
        "\n",
        "\n",
        "class TestClass(unittest.TestCase):\n",
        "\n",
        "    def test_case_1(self):\n",
        "        self.assertTrue(isinstance('aws', str))\n",
        "\n",
        "    def test_case_2(self):\n",
        "        self.assertTrue(isinstance('aws', int))\n",
        "\n",
        "    def test_case_3(self):\n",
        "        self.assertFalse(isinstance('aws', str))\n",
        "\n",
        "    def test_case_4(self):\n",
        "        self.assertFalse(isinstance('aws', int))"
      ],
      "metadata": {
        "colab": {
          "base_uri": "https://localhost:8080/"
        },
        "id": "bTb0HQRj7LXz",
        "outputId": "64ea178e-0dbb-414c-c0e3-4e609bbeb345"
      },
      "execution_count": 74,
      "outputs": [
        {
          "output_type": "stream",
          "name": "stdout",
          "text": [
            "Overwriting 04_assertTrue.py\n"
          ]
        }
      ]
    },
    {
      "cell_type": "code",
      "source": [
        "!python -m unittest 04_assertTrue.py -v"
      ],
      "metadata": {
        "colab": {
          "base_uri": "https://localhost:8080/"
        },
        "id": "rkuDWqZo7e3F",
        "outputId": "11db4786-7536-4409-85ae-d6f075b14632"
      },
      "execution_count": 75,
      "outputs": [
        {
          "output_type": "stream",
          "name": "stdout",
          "text": [
            "test_case_1 (04_assertTrue.TestClass) ... ok\n",
            "test_case_2 (04_assertTrue.TestClass) ... FAIL\n",
            "test_case_3 (04_assertTrue.TestClass) ... FAIL\n",
            "test_case_4 (04_assertTrue.TestClass) ... ok\n",
            "\n",
            "======================================================================\n",
            "FAIL: test_case_2 (04_assertTrue.TestClass)\n",
            "----------------------------------------------------------------------\n",
            "Traceback (most recent call last):\n",
            "  File \"/content/04_assertTrue.py\", line 10, in test_case_2\n",
            "    self.assertTrue(isinstance('aws', int))\n",
            "AssertionError: False is not true\n",
            "\n",
            "======================================================================\n",
            "FAIL: test_case_3 (04_assertTrue.TestClass)\n",
            "----------------------------------------------------------------------\n",
            "Traceback (most recent call last):\n",
            "  File \"/content/04_assertTrue.py\", line 13, in test_case_3\n",
            "    self.assertFalse(isinstance('aws', str))\n",
            "AssertionError: True is not false\n",
            "\n",
            "----------------------------------------------------------------------\n",
            "Ran 4 tests in 0.001s\n",
            "\n",
            "FAILED (failures=2)\n"
          ]
        }
      ]
    },
    {
      "cell_type": "code",
      "source": [
        "%%writefile 05_assertIn.py\n",
        "import unittest\n",
        "\n",
        "\n",
        "class TestClass(unittest.TestCase):\n",
        "\n",
        "    def test_case_1(self):\n",
        "        self.assertIn(\"@\", 'sample@email.com')\n",
        "\n",
        "    def test_case_2(self):\n",
        "        self.assertIn(\"@\", 'sample#email.com')\n",
        "\n",
        "    def test_case_3(self):\n",
        "        tech_stack = ['java', 'python', 'sql', 'aws']\n",
        "        self.assertIn('python', tech_stack)\n",
        "\n",
        "    def test_case_4(self):\n",
        "        tech_stack = ['java', 'python', 'sql', 'aws']\n",
        "        self.assertIn('c++', tech_stack)\n",
        "\n",
        "    def test_case_5(self):\n",
        "        tech_stack = {'java': 'mid', 'python': 'senior'}\n",
        "        self.assertIn('excel', tech_stack)\n",
        "\n",
        "    def test_case_6(self):\n",
        "        tech_stack = {'java': 'mid', 'python': 'senior'}\n",
        "        self.assertNotIn('excel', tech_stack)"
      ],
      "metadata": {
        "colab": {
          "base_uri": "https://localhost:8080/"
        },
        "id": "OZC7lMYm9P71",
        "outputId": "38035f4d-d815-4af8-d35b-1a7cf8bc8bca"
      },
      "execution_count": 99,
      "outputs": [
        {
          "output_type": "stream",
          "name": "stdout",
          "text": [
            "Overwriting 05_assertIn.py\n"
          ]
        }
      ]
    },
    {
      "cell_type": "code",
      "source": [
        "!python -m unittest 05_assertIn.py -v"
      ],
      "metadata": {
        "colab": {
          "base_uri": "https://localhost:8080/"
        },
        "id": "PDxNZmOD9Xn2",
        "outputId": "bd3cfda8-9060-442d-f1dd-83dd006ffe06"
      },
      "execution_count": 100,
      "outputs": [
        {
          "output_type": "stream",
          "name": "stdout",
          "text": [
            "test_case_1 (05_assertIn.TestClass) ... ok\n",
            "test_case_2 (05_assertIn.TestClass) ... FAIL\n",
            "test_case_3 (05_assertIn.TestClass) ... ok\n",
            "test_case_4 (05_assertIn.TestClass) ... FAIL\n",
            "test_case_5 (05_assertIn.TestClass) ... FAIL\n",
            "test_case_6 (05_assertIn.TestClass) ... ok\n",
            "\n",
            "======================================================================\n",
            "FAIL: test_case_2 (05_assertIn.TestClass)\n",
            "----------------------------------------------------------------------\n",
            "Traceback (most recent call last):\n",
            "  File \"/content/05_assertIn.py\", line 10, in test_case_2\n",
            "    self.assertIn(\"@\", 'sample#email.com')\n",
            "AssertionError: '@' not found in 'sample#email.com'\n",
            "\n",
            "======================================================================\n",
            "FAIL: test_case_4 (05_assertIn.TestClass)\n",
            "----------------------------------------------------------------------\n",
            "Traceback (most recent call last):\n",
            "  File \"/content/05_assertIn.py\", line 18, in test_case_4\n",
            "    self.assertIn('c++', tech_stack)\n",
            "AssertionError: 'c++' not found in ['java', 'python', 'sql', 'aws']\n",
            "\n",
            "======================================================================\n",
            "FAIL: test_case_5 (05_assertIn.TestClass)\n",
            "----------------------------------------------------------------------\n",
            "Traceback (most recent call last):\n",
            "  File \"/content/05_assertIn.py\", line 22, in test_case_5\n",
            "    self.assertIn('excel', tech_stack)\n",
            "AssertionError: 'excel' not found in {'java': 'mid', 'python': 'senior'}\n",
            "\n",
            "----------------------------------------------------------------------\n",
            "Ran 6 tests in 0.001s\n",
            "\n",
            "FAILED (failures=3)\n"
          ]
        }
      ]
    },
    {
      "cell_type": "code",
      "source": [
        "%%writefile 06_assertIsInstance.py\n",
        "import unittest\n",
        "\n",
        "\n",
        "class Person:\n",
        "\n",
        "    def __init__(self, name):\n",
        "        self.name = name\n",
        "\n",
        "\n",
        "class Worker(Person):\n",
        "    pass\n",
        "\n",
        "\n",
        "class TestPerson(unittest.TestCase):\n",
        "\n",
        "    def test_case_1(self):\n",
        "        self.assertIsInstance(Person, type)\n",
        "\n",
        "    def test_case_2(self):\n",
        "        person = Person('Joe')\n",
        "        self.assertIsInstance(person, Person)\n",
        "\n",
        "\n",
        "class TestWorker(unittest.TestCase):\n",
        "\n",
        "    def test_case_1(self):\n",
        "        self.assertIsInstance(Worker, type)\n",
        "\n",
        "    def test_case_2(self):\n",
        "        worker = Worker('Thor')\n",
        "        self.assertIsInstance(worker, Worker)\n",
        "\n",
        "    def test_case_3(self):\n",
        "        worker = Worker('Thor')\n",
        "        self.assertIsInstance(worker, Person)\n",
        "\n",
        "    def test_case_4(self):\n",
        "        person = Person('Thor')\n",
        "        self.assertIsInstance(person, Worker)"
      ],
      "metadata": {
        "colab": {
          "base_uri": "https://localhost:8080/"
        },
        "id": "r8QiRodb-vKH",
        "outputId": "32761f52-1f99-4cda-97f5-02b34f7c638b"
      },
      "execution_count": 112,
      "outputs": [
        {
          "output_type": "stream",
          "name": "stdout",
          "text": [
            "Overwriting 06_assertIsInstance.py\n"
          ]
        }
      ]
    },
    {
      "cell_type": "code",
      "source": [
        "!python -m unittest 06_assertIsInstance.py -v"
      ],
      "metadata": {
        "colab": {
          "base_uri": "https://localhost:8080/"
        },
        "id": "7rRs7OgVD_-g",
        "outputId": "78ae4811-73dd-4001-e946-0446d2dcbb96"
      },
      "execution_count": 113,
      "outputs": [
        {
          "output_type": "stream",
          "name": "stdout",
          "text": [
            "test_case_1 (06_assertIsInstance.TestPerson) ... ok\n",
            "test_case_2 (06_assertIsInstance.TestPerson) ... ok\n",
            "test_case_1 (06_assertIsInstance.TestWorker) ... ok\n",
            "test_case_2 (06_assertIsInstance.TestWorker) ... ok\n",
            "test_case_3 (06_assertIsInstance.TestWorker) ... ok\n",
            "test_case_4 (06_assertIsInstance.TestWorker) ... FAIL\n",
            "\n",
            "======================================================================\n",
            "FAIL: test_case_4 (06_assertIsInstance.TestWorker)\n",
            "----------------------------------------------------------------------\n",
            "Traceback (most recent call last):\n",
            "  File \"/content/06_assertIsInstance.py\", line 39, in test_case_4\n",
            "    self.assertIsInstance(person, Worker)\n",
            "AssertionError: <06_assertIsInstance.Person object at 0x7e6d8a143850> is not an instance of <class '06_assertIsInstance.Worker'>\n",
            "\n",
            "----------------------------------------------------------------------\n",
            "Ran 6 tests in 0.000s\n",
            "\n",
            "FAILED (failures=1)\n"
          ]
        }
      ]
    },
    {
      "cell_type": "code",
      "source": [
        "%%writefile 07_assertRaises.py\n",
        "import unittest\n",
        "\n",
        "\n",
        "def get_value(index, container):\n",
        "    return container[index]\n",
        "\n",
        "\n",
        "class TestClass(unittest.TestCase):\n",
        "\n",
        "    def test_case_1(self):\n",
        "        self.assertRaises(IndexError, get_value, 3, 'aws')\n",
        "\n",
        "    def test_case_2(self):\n",
        "        self.assertRaises(Exception, get_value, 3, 'aws')\n",
        "\n",
        "    def test_case_3(self):\n",
        "        with self.assertRaises(IndexError):\n",
        "            get_value(3, 'xxx')"
      ],
      "metadata": {
        "colab": {
          "base_uri": "https://localhost:8080/"
        },
        "id": "HG2kdh7iGJbI",
        "outputId": "cec352b1-548d-4c81-92c5-170274ce67b5"
      },
      "execution_count": 120,
      "outputs": [
        {
          "output_type": "stream",
          "name": "stdout",
          "text": [
            "Overwriting 07_assertRaises.py\n"
          ]
        }
      ]
    },
    {
      "cell_type": "code",
      "source": [
        "!python -m unittest 07_assertRaises.py -v"
      ],
      "metadata": {
        "colab": {
          "base_uri": "https://localhost:8080/"
        },
        "id": "n34oEUikH76-",
        "outputId": "78328d95-cbd7-4dee-f54e-07f6ee552f8c"
      },
      "execution_count": 121,
      "outputs": [
        {
          "output_type": "stream",
          "name": "stdout",
          "text": [
            "test_case_1 (07_assertRaises.TestClass) ... ok\n",
            "test_case_2 (07_assertRaises.TestClass) ... ok\n",
            "test_case_3 (07_assertRaises.TestClass) ... ok\n",
            "\n",
            "----------------------------------------------------------------------\n",
            "Ran 3 tests in 0.000s\n",
            "\n",
            "OK\n"
          ]
        }
      ]
    },
    {
      "cell_type": "markdown",
      "source": [
        "# ***Skipping tests***"
      ],
      "metadata": {
        "id": "8lXoeWT6JE2k"
      }
    },
    {
      "cell_type": "code",
      "source": [
        "%%writefile 01_skip.py\n",
        "import unittest\n",
        "\n",
        "\n",
        "class TestClass(unittest.TestCase):\n",
        "\n",
        "    def test_case_1(self):\n",
        "        self.assertEqual('aws'.upper(), 'AWS')\n",
        "\n",
        "    @unittest.skip('Some info...')\n",
        "    def test_case_2(self):\n",
        "        self.assertEqual('aws'.upper(), 'AWS')"
      ],
      "metadata": {
        "colab": {
          "base_uri": "https://localhost:8080/"
        },
        "id": "bQ8QCRHAH-b2",
        "outputId": "dce25409-7d1b-4fcd-d524-c82a26b1df8c"
      },
      "execution_count": 127,
      "outputs": [
        {
          "output_type": "stream",
          "name": "stdout",
          "text": [
            "Overwriting 01_skip.py\n"
          ]
        }
      ]
    },
    {
      "cell_type": "code",
      "source": [
        "!python -m unittest 01_skip.py -v"
      ],
      "metadata": {
        "colab": {
          "base_uri": "https://localhost:8080/"
        },
        "id": "bRitIrKhJleA",
        "outputId": "8016ba0b-14be-4b01-8b29-ce036a7c274f"
      },
      "execution_count": 128,
      "outputs": [
        {
          "output_type": "stream",
          "name": "stdout",
          "text": [
            "test_case_1 (01_skip.TestClass) ... ok\n",
            "test_case_2 (01_skip.TestClass) ... skipped 'Some info...'\n",
            "\n",
            "----------------------------------------------------------------------\n",
            "Ran 2 tests in 0.000s\n",
            "\n",
            "OK (skipped=1)\n"
          ]
        }
      ]
    },
    {
      "cell_type": "code",
      "source": [
        "%%writefile 02_skipIf.py\n",
        "from datetime import date\n",
        "import unittest\n",
        "\n",
        "\n",
        "class TestClass(unittest.TestCase):\n",
        "\n",
        "    def test_case_1(self):\n",
        "        self.assertEqual('aws'.upper(), 'AWS')\n",
        "\n",
        "    @unittest.skipIf(date.today().day % 2 == 1, \"Test even day only\")\n",
        "    def test_case_2(self):\n",
        "        self.assertEqual('aws'.upper(), 'AWS')\n",
        "\n",
        "    @unittest.skipIf(date.today().day % 2 == 0, \"Test odd day only\")\n",
        "    def test_case_3(self):\n",
        "        self.assertEqual('aws'.upper(), 'AWS')"
      ],
      "metadata": {
        "colab": {
          "base_uri": "https://localhost:8080/"
        },
        "id": "0hCw4GcbK2wz",
        "outputId": "99dfa180-c63e-4dc0-9d47-c87fe806b02b"
      },
      "execution_count": 143,
      "outputs": [
        {
          "output_type": "stream",
          "name": "stdout",
          "text": [
            "Overwriting 02_skipIf.py\n"
          ]
        }
      ]
    },
    {
      "cell_type": "code",
      "source": [
        "!python -m unittest 02_skipIf.py -v"
      ],
      "metadata": {
        "colab": {
          "base_uri": "https://localhost:8080/"
        },
        "id": "d8mEI1bCLRyl",
        "outputId": "b1121c73-010a-4710-e278-cc7559e74d71"
      },
      "execution_count": 144,
      "outputs": [
        {
          "output_type": "stream",
          "name": "stdout",
          "text": [
            "test_case_1 (02_skipIf.TestClass) ... ok\n",
            "test_case_2 (02_skipIf.TestClass) ... skipped 'Test even day only'\n",
            "test_case_3 (02_skipIf.TestClass) ... ok\n",
            "\n",
            "----------------------------------------------------------------------\n",
            "Ran 3 tests in 0.000s\n",
            "\n",
            "OK (skipped=1)\n"
          ]
        }
      ]
    }
  ]
}