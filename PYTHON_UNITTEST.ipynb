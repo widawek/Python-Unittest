{
  "nbformat": 4,
  "nbformat_minor": 0,
  "metadata": {
    "colab": {
      "provenance": [],
      "collapsed_sections": [
        "bAuS7xlVI5IF",
        "VIU5mO0kvcLo",
        "w7mrDo0Kvr6c",
        "8lXoeWT6JE2k",
        "-lt8I4wRDrNb",
        "zSGwGh0rHIai",
        "ZdooJp6cixWO"
      ],
      "authorship_tag": "ABX9TyN7tJtoSi9S7oqgE5uzmK2T",
      "include_colab_link": true
    },
    "kernelspec": {
      "name": "python3",
      "display_name": "Python 3"
    },
    "language_info": {
      "name": "python"
    }
  },
  "cells": [
    {
      "cell_type": "markdown",
      "metadata": {
        "id": "view-in-github",
        "colab_type": "text"
      },
      "source": [
        "<a href=\"https://colab.research.google.com/github/widawek/Python-Unittest/blob/master/PYTHON_UNITTEST.ipynb\" target=\"_parent\"><img src=\"https://colab.research.google.com/assets/colab-badge.svg\" alt=\"Open In Colab\"/></a>"
      ]
    },
    {
      "cell_type": "markdown",
      "source": [
        "# ***Assert***"
      ],
      "metadata": {
        "id": "bAuS7xlVI5IF"
      }
    },
    {
      "cell_type": "code",
      "execution_count": null,
      "metadata": {
        "id": "nqutJ6Ic58dn"
      },
      "outputs": [],
      "source": [
        "import unittest"
      ]
    },
    {
      "cell_type": "code",
      "source": [
        "def add(x, y):\n",
        "  return x + y"
      ],
      "metadata": {
        "id": "ujLzhJBR6Xg2"
      },
      "execution_count": null,
      "outputs": []
    },
    {
      "cell_type": "code",
      "source": [
        "class SimpleTest(unittest.TestCase):\n",
        "\n",
        "  def test_add(self):\n",
        "    self.assertEqual(add(3, 4), 7, msg='Powinno byc 7')\n",
        "\n",
        "\n",
        "if __name__ == '__main__':\n",
        "  unittest.main(argv=['first-arg-is-ignored'], exit=False)   # in jupyter and iPython"
      ],
      "metadata": {
        "colab": {
          "base_uri": "https://localhost:8080/"
        },
        "id": "YySHcnis6bCy",
        "outputId": "6b7d4d6e-7271-4b27-b924-bb249d6dea8c"
      },
      "execution_count": null,
      "outputs": [
        {
          "output_type": "stream",
          "name": "stderr",
          "text": [
            ".\n",
            "----------------------------------------------------------------------\n",
            "Ran 1 test in 0.004s\n",
            "\n",
            "OK\n"
          ]
        }
      ]
    },
    {
      "cell_type": "code",
      "source": [
        "help(unittest.TestCase)"
      ],
      "metadata": {
        "id": "JUbOwuxA6nKg"
      },
      "execution_count": null,
      "outputs": []
    },
    {
      "cell_type": "code",
      "source": [],
      "metadata": {
        "id": "I4u-wD-cdKak"
      },
      "execution_count": null,
      "outputs": []
    },
    {
      "cell_type": "code",
      "source": [
        "class SimpleTest(unittest.TestCase):\n",
        "\n",
        "  def test_add(self):\n",
        "    self.assertEqual(add(3, 4), 7, msg='Powinno byc 7')\n",
        "\n",
        "\n",
        "if __name__ == '__main__':\n",
        "  unittest.main(argv=['first-arg-is-ignored'], exit=False)"
      ],
      "metadata": {
        "id": "QT9OStHidKd6",
        "colab": {
          "base_uri": "https://localhost:8080/"
        },
        "outputId": "5200a932-8d31-45a0-c407-1818b0f159c9"
      },
      "execution_count": null,
      "outputs": [
        {
          "output_type": "stream",
          "name": "stderr",
          "text": [
            ".\n",
            "----------------------------------------------------------------------\n",
            "Ran 1 test in 0.006s\n",
            "\n",
            "OK\n"
          ]
        }
      ]
    },
    {
      "cell_type": "code",
      "source": [],
      "metadata": {
        "id": "r1RnrthzU7rh"
      },
      "execution_count": null,
      "outputs": []
    },
    {
      "cell_type": "code",
      "source": [
        "def total_price(net_price, tax_rate, discount=False):\n",
        "    if not discount:\n",
        "        return int(net_price * (1 + tax_rate / 100.0))\n",
        "    else:\n",
        "        return int(net_price * (1 + tax_rate / 100.0) * 0.9)"
      ],
      "metadata": {
        "id": "yp5vQ8YgUDXf"
      },
      "execution_count": null,
      "outputs": []
    },
    {
      "cell_type": "code",
      "source": [
        "total_price(1000, 23, True)"
      ],
      "metadata": {
        "colab": {
          "base_uri": "https://localhost:8080/"
        },
        "id": "PjR-09EHU7Fe",
        "outputId": "7f7a098e-b462-4839-8583-68546a399f25"
      },
      "execution_count": null,
      "outputs": [
        {
          "output_type": "execute_result",
          "data": {
            "text/plain": [
              "1107"
            ]
          },
          "metadata": {},
          "execution_count": 9
        }
      ]
    },
    {
      "cell_type": "code",
      "source": [
        "assert True"
      ],
      "metadata": {
        "id": "pZKNjUepVizS"
      },
      "execution_count": null,
      "outputs": []
    },
    {
      "cell_type": "code",
      "source": [
        "assert False"
      ],
      "metadata": {
        "id": "DcNkxIrTVlg1"
      },
      "execution_count": null,
      "outputs": []
    },
    {
      "cell_type": "code",
      "source": [
        "assert False, \"Message\""
      ],
      "metadata": {
        "id": "vH_hXQEGVnfd"
      },
      "execution_count": null,
      "outputs": []
    },
    {
      "cell_type": "code",
      "source": [
        "bool('')"
      ],
      "metadata": {
        "id": "nHgu_tINVtZE"
      },
      "execution_count": null,
      "outputs": []
    },
    {
      "cell_type": "code",
      "source": [
        "assert ''"
      ],
      "metadata": {
        "id": "2c4T_R2HVzU7"
      },
      "execution_count": null,
      "outputs": []
    },
    {
      "cell_type": "code",
      "source": [
        "assert 0"
      ],
      "metadata": {
        "id": "W1q6FQJgV1Yy"
      },
      "execution_count": null,
      "outputs": []
    },
    {
      "cell_type": "code",
      "source": [
        "assert []"
      ],
      "metadata": {
        "id": "EkBmEvueV3IB"
      },
      "execution_count": null,
      "outputs": []
    },
    {
      "cell_type": "code",
      "source": [
        "assert [[]]"
      ],
      "metadata": {
        "id": "WXLbA3EAV4Rt"
      },
      "execution_count": null,
      "outputs": []
    },
    {
      "cell_type": "code",
      "source": [
        "condition = False\n",
        "# if not condition:\n",
        "#     raise AssertionError('Assertion Error')\n",
        "\n",
        "assert condition"
      ],
      "metadata": {
        "colab": {
          "base_uri": "https://localhost:8080/",
          "height": 217
        },
        "id": "5UPoWfFPWCuW",
        "outputId": "15f20043-7544-460a-de36-4a572552909b"
      },
      "execution_count": null,
      "outputs": [
        {
          "output_type": "error",
          "ename": "AssertionError",
          "evalue": "",
          "traceback": [
            "\u001b[0;31m---------------------------------------------------------------------------\u001b[0m",
            "\u001b[0;31mAssertionError\u001b[0m                            Traceback (most recent call last)",
            "\u001b[0;32m<ipython-input-22-db0fe9f1456b>\u001b[0m in \u001b[0;36m<cell line: 5>\u001b[0;34m()\u001b[0m\n\u001b[1;32m      3\u001b[0m \u001b[0;31m#     raise AssertionError('Assertion Error')\u001b[0m\u001b[0;34m\u001b[0m\u001b[0;34m\u001b[0m\u001b[0m\n\u001b[1;32m      4\u001b[0m \u001b[0;34m\u001b[0m\u001b[0m\n\u001b[0;32m----> 5\u001b[0;31m \u001b[0;32massert\u001b[0m \u001b[0mcondition\u001b[0m\u001b[0;34m\u001b[0m\u001b[0;34m\u001b[0m\u001b[0m\n\u001b[0m",
            "\u001b[0;31mAssertionError\u001b[0m: "
          ]
        }
      ]
    },
    {
      "cell_type": "code",
      "source": [
        "amount = 1000\n",
        "tax_rate = 0.15\n",
        "\n",
        "assert amount >= 0, 'The amount sholud not be negative'\n",
        "assert 0 < tax_rate < 1, 'Tax rate should be beetween zero and one'"
      ],
      "metadata": {
        "id": "QXkFWP_pWldr"
      },
      "execution_count": null,
      "outputs": []
    },
    {
      "cell_type": "markdown",
      "source": [
        "# ***Unittest Basic***"
      ],
      "metadata": {
        "id": "VIU5mO0kvcLo"
      }
    },
    {
      "cell_type": "code",
      "source": [
        "def area(width, height):\n",
        "    \"\"\"The function returns area of the rectangle\"\"\"\n",
        "\n",
        "    if not (isinstance(width, (int, float)) and\n",
        "            isinstance(height, (int, float))):\n",
        "        raise TypeError('The width and height must be of type int or float.')\n",
        "\n",
        "    if not (width > 0 and height > 0):\n",
        "        raise ValueError('The width and height must be positive.')\n",
        "\n",
        "    return width * height"
      ],
      "metadata": {
        "id": "VACp8lqnWuof"
      },
      "execution_count": null,
      "outputs": []
    },
    {
      "cell_type": "code",
      "source": [
        "width = int(input('Enter the width of the ractangle: '))\n",
        "assert width > 0, 'The width value of the ractangle must be positive'\n",
        "height = int(input('Enter the height of the ractangle: '))\n",
        "assert height > 0, 'The height value of the ractangle must be positive'\n",
        "\n",
        "area = width * height\n",
        "print(f'Area: {area}')"
      ],
      "metadata": {
        "colab": {
          "base_uri": "https://localhost:8080/"
        },
        "id": "3TRhSgtsXNEX",
        "outputId": "ecd1f9ea-0424-4298-f8f7-17ea8aa2dd68"
      },
      "execution_count": null,
      "outputs": [
        {
          "output_type": "stream",
          "name": "stdout",
          "text": [
            "Enter the width of the ractangle: 45\n",
            "Enter the height of the ractangle: 938\n",
            "Area: 42210\n"
          ]
        }
      ]
    },
    {
      "cell_type": "code",
      "source": [
        "import unittest\n",
        "\n",
        "\n",
        "def area(width, height):\n",
        "    \"\"\"The function returns area of the rectangle\"\"\"\n",
        "\n",
        "    if not (isinstance(width, (int, float)) and\n",
        "            isinstance(height, (int, float))):\n",
        "        raise TypeError('The width and height must be of type int or float.')\n",
        "\n",
        "    if not (width > 0 and height > 0):\n",
        "        raise ValueError('The width and height must be positive.')\n",
        "\n",
        "    return width * height\n",
        "\n",
        "\n",
        "class TestArea(unittest.TestCase):\n",
        "\n",
        "    def test_area(self):\n",
        "        self.assertEqual(area(4, 5), 20, 'message')\n",
        "\n",
        "    def test_area_incorrect_type_should_raise_error(self):\n",
        "        self.assertRaises(TypeError, area, '4', '5')\n",
        "        self.assertRaises(TypeError, area, 4, '5')\n",
        "\n",
        "    def test_area_negative_value_should_raise_error(self):\n",
        "        self.assertRaises(ValueError, area, -1, 0)\n",
        "        self.assertRaises(ValueError, area, 4, -70)\n",
        "\n",
        "\n",
        "if __name__ == '__main__':\n",
        "    # unittest.main(argv=['first-arg-is-ignored'], exit=False)\n",
        "    unittest.main(verbosity=2, argv=['first-arg-is-ignored'], exit=False)"
      ],
      "metadata": {
        "colab": {
          "base_uri": "https://localhost:8080/"
        },
        "id": "H87plweFXXMh",
        "outputId": "174553ad-8b5a-47ec-93b5-b239707441ff"
      },
      "execution_count": null,
      "outputs": [
        {
          "output_type": "stream",
          "name": "stderr",
          "text": [
            "test_area (__main__.TestArea) ... ok\n",
            "test_area_incorrect_type_should_raise_error (__main__.TestArea) ... ok\n",
            "test_area_negative_value_should_raise_error (__main__.TestArea) ... ok\n",
            "\n",
            "----------------------------------------------------------------------\n",
            "Ran 3 tests in 0.016s\n",
            "\n",
            "OK\n"
          ]
        }
      ]
    },
    {
      "cell_type": "code",
      "source": [],
      "metadata": {
        "id": "4r-KZNtDkeos"
      },
      "execution_count": null,
      "outputs": []
    },
    {
      "cell_type": "code",
      "source": [
        "import unittest\n",
        "\n",
        "\n",
        "def area(width, height):\n",
        "    \"\"\"The function returns area of the rectangle\"\"\"\n",
        "\n",
        "    if not (isinstance(width, (int, float)) and\n",
        "            isinstance(height, (int, float))):\n",
        "        raise TypeError('The width and height must be of type int or float.')\n",
        "\n",
        "    if not (width > 0 and height > 0):\n",
        "        raise ValueError('The width and height must be positive.')\n",
        "\n",
        "    return width * height\n",
        "\n",
        "\n",
        "class TestArea(unittest.TestCase):\n",
        "\n",
        "    def test_area_1(self):\n",
        "        self.assertEqual(area(4, 5), 20, 'dobrze')\n",
        "\n",
        "    def test_area_2(self):\n",
        "        self.assertEqual(area(4, 5), 21, 'źle')\n",
        "\n",
        "    def test_area_3(self):\n",
        "        raise AssertionError('Error message')\n",
        "\n",
        "    def test_area_4(self):\n",
        "        raise TypeError('Error message')\n",
        "\n",
        "if __name__ == '__main__':\n",
        "    # unittest.main(argv=['first-arg-is-ignored'], exit=False)\n",
        "    unittest.main(verbosity=2, argv=['first-arg-is-ignored'], exit=False)"
      ],
      "metadata": {
        "colab": {
          "base_uri": "https://localhost:8080/"
        },
        "id": "V8FAJkPwnZ6v",
        "outputId": "92581caa-2c26-42b4-9a2f-ceafe7aa6930"
      },
      "execution_count": null,
      "outputs": [
        {
          "output_type": "stream",
          "name": "stderr",
          "text": [
            "test_area_1 (__main__.TestArea) ... ok\n",
            "test_area_2 (__main__.TestArea) ... FAIL\n",
            "test_area_3 (__main__.TestArea) ... FAIL\n",
            "test_area_4 (__main__.TestArea) ... ERROR\n",
            "\n",
            "======================================================================\n",
            "ERROR: test_area_4 (__main__.TestArea)\n",
            "----------------------------------------------------------------------\n",
            "Traceback (most recent call last):\n",
            "  File \"<ipython-input-10-c4d73652d665>\", line 28, in test_area_4\n",
            "    raise TypeError('Error message')\n",
            "TypeError: Error message\n",
            "\n",
            "======================================================================\n",
            "FAIL: test_area_2 (__main__.TestArea)\n",
            "----------------------------------------------------------------------\n",
            "Traceback (most recent call last):\n",
            "  File \"<ipython-input-10-c4d73652d665>\", line 22, in test_area_2\n",
            "    self.assertEqual(area(4, 5), 21, 'źle')\n",
            "AssertionError: 20 != 21 : źle\n",
            "\n",
            "======================================================================\n",
            "FAIL: test_area_3 (__main__.TestArea)\n",
            "----------------------------------------------------------------------\n",
            "Traceback (most recent call last):\n",
            "  File \"<ipython-input-10-c4d73652d665>\", line 25, in test_area_3\n",
            "    raise AssertionError('Error message')\n",
            "AssertionError: Error message\n",
            "\n",
            "----------------------------------------------------------------------\n",
            "Ran 4 tests in 0.021s\n",
            "\n",
            "FAILED (failures=2, errors=1)\n"
          ]
        }
      ]
    },
    {
      "cell_type": "code",
      "source": [],
      "metadata": {
        "id": "if-1QH4no9Vm"
      },
      "execution_count": null,
      "outputs": []
    },
    {
      "cell_type": "code",
      "source": [
        "%%writefile function.py\n",
        "import unittest\n",
        "\n",
        "\n",
        "def area(width, height):\n",
        "    \"\"\"The function returns area of the rectangle\"\"\"\n",
        "\n",
        "    if not (isinstance(width, (int, float)) and\n",
        "            isinstance(height, (int, float))):\n",
        "        raise TypeError('The width and height must be of type int or float.')\n",
        "\n",
        "    if not (width > 0 and height > 0):\n",
        "        raise ValueError('The width and height must be positive.')\n",
        "\n",
        "    return width * height\n",
        "\n",
        "\n",
        "class TestArea(unittest.TestCase):\n",
        "\n",
        "    def test_area(self):\n",
        "        self.assertEqual(area(4, 5), 20, 'message')\n",
        "\n",
        "    def test_area_incorrect_type_should_raise_error(self):\n",
        "        self.assertRaises(TypeError, area, '4', '5')\n",
        "        self.assertRaises(TypeError, area, 4, '5')\n",
        "\n",
        "    def test_area_negative_value_should_raise_error(self):\n",
        "        self.assertRaises(ValueError, area, -1, 0)\n",
        "        self.assertRaises(ValueError, area, 4, -70)\n",
        "\n",
        "\n",
        "# if __name__ == '__main__':\n",
        "#     # unittest.main(argv=['first-arg-is-ignored'], exit=False)\n",
        "#     unittest.main(verbosity=2, argv=['first-arg-is-ignored'], exit=False)"
      ],
      "metadata": {
        "colab": {
          "base_uri": "https://localhost:8080/"
        },
        "id": "UlNNtRdMo9ey",
        "outputId": "04d8706e-b214-4314-afb0-96ec9ceb19ae"
      },
      "execution_count": null,
      "outputs": [
        {
          "output_type": "stream",
          "name": "stdout",
          "text": [
            "Overwriting function.py\n"
          ]
        }
      ]
    },
    {
      "cell_type": "code",
      "source": [
        "!python -m unittest function.py -v"
      ],
      "metadata": {
        "colab": {
          "base_uri": "https://localhost:8080/"
        },
        "id": "eNKnXHuVpXB9",
        "outputId": "006ad7a0-1d38-4f6a-ec0c-64fd4e4e1ddc"
      },
      "execution_count": null,
      "outputs": [
        {
          "output_type": "stream",
          "name": "stdout",
          "text": [
            "test_area (function.TestArea) ... ok\n",
            "test_area_incorrect_type_should_raise_error (function.TestArea) ... ok\n",
            "test_area_negative_value_should_raise_error (function.TestArea) ... ok\n",
            "\n",
            "----------------------------------------------------------------------\n",
            "Ran 3 tests in 0.001s\n",
            "\n",
            "OK\n"
          ]
        }
      ]
    },
    {
      "cell_type": "code",
      "source": [],
      "metadata": {
        "id": "zzeP0Xczq6d8"
      },
      "execution_count": null,
      "outputs": []
    },
    {
      "cell_type": "code",
      "source": [
        "%%writefile 05_test_class.py\n",
        "import unittest\n",
        "\n",
        "\n",
        "class TestClass(unittest.TestCase):\n",
        "\n",
        "    def test_case_1(self):\n",
        "        self.assertEqual('John Smith'.split(), [\"John\", \"Smith\"])\n",
        "\n",
        "    def test_case_2(self):\n",
        "        self.assertEqual('3.9'.split('.'), ['3', '9'])\n",
        "\n",
        "    def test_case_3(self):\n",
        "        self.assertEqual('#'.join(['sport', 'gym']), 'sport#gym')\n",
        "\n",
        "    def test_case_4(self):\n",
        "        self.assertTrue('apple'.islower())"
      ],
      "metadata": {
        "colab": {
          "base_uri": "https://localhost:8080/"
        },
        "id": "xJ7xH03gq6ou",
        "outputId": "a90f6c56-1ece-49ca-dd46-42312813eb3f"
      },
      "execution_count": null,
      "outputs": [
        {
          "output_type": "stream",
          "name": "stdout",
          "text": [
            "Overwriting 05_test_class.py\n"
          ]
        }
      ]
    },
    {
      "cell_type": "code",
      "source": [
        "!python -m unittest 05_test_class.py"
      ],
      "metadata": {
        "colab": {
          "base_uri": "https://localhost:8080/"
        },
        "id": "1JN1Ksx5rhrv",
        "outputId": "2b1d8d8e-317e-4add-edea-016921c9f84e"
      },
      "execution_count": null,
      "outputs": [
        {
          "output_type": "stream",
          "name": "stdout",
          "text": [
            "....\n",
            "----------------------------------------------------------------------\n",
            "Ran 4 tests in 0.000s\n",
            "\n",
            "OK\n"
          ]
        }
      ]
    },
    {
      "cell_type": "code",
      "source": [],
      "metadata": {
        "id": "_RFuH5dS-5fu"
      },
      "execution_count": null,
      "outputs": []
    },
    {
      "cell_type": "code",
      "source": [
        "%%writefile 06_test_execition_order.py\n",
        "\n",
        "import unittest\n",
        "\n",
        "class TestClass(unittest.TestCase):\n",
        "\n",
        "    def test_case_4(self):\n",
        "        self.assertTrue('apple'.islower())\n",
        "\n",
        "    def test_case_1(self):\n",
        "        self.assertEqual('John Smith'.split(), [\"John\", \"Smith\"])\n",
        "\n",
        "    def test_case_2(self):\n",
        "        self.assertEqual('3.9'.split('.'), ['3', '9'])\n",
        "\n",
        "    def test_case_3(self):\n",
        "        self.assertEqual('#'.join(['sport', 'gym']), 'sport#gym')"
      ],
      "metadata": {
        "colab": {
          "base_uri": "https://localhost:8080/"
        },
        "id": "JTE-10gi_EP7",
        "outputId": "70c26936-9e68-4b5f-c26d-f121fe5b5ae9"
      },
      "execution_count": null,
      "outputs": [
        {
          "output_type": "stream",
          "name": "stdout",
          "text": [
            "Writing 06_test_execition_order.py\n"
          ]
        }
      ]
    },
    {
      "cell_type": "code",
      "source": [
        "!python -m unittest 06_test_execition_order.py -v"
      ],
      "metadata": {
        "colab": {
          "base_uri": "https://localhost:8080/"
        },
        "id": "Ms6DnH8a_KmY",
        "outputId": "281f5d93-9127-4bc7-d02e-3fc9bec99c29"
      },
      "execution_count": null,
      "outputs": [
        {
          "output_type": "stream",
          "name": "stdout",
          "text": [
            "test_case_1 (06_test_class.TestClass) ... ok\n",
            "test_case_2 (06_test_class.TestClass) ... ok\n",
            "test_case_3 (06_test_class.TestClass) ... ok\n",
            "test_case_4 (06_test_class.TestClass) ... ok\n",
            "\n",
            "----------------------------------------------------------------------\n",
            "Ran 4 tests in 0.001s\n",
            "\n",
            "OK\n"
          ]
        }
      ]
    },
    {
      "cell_type": "code",
      "source": [
        "%%writefile 07_class_test_execition_order.py\n",
        "import unittest\n",
        "\n",
        "class TestClass4(unittest.TestCase):\n",
        "\n",
        "    def test_case_1(self):\n",
        "        self.assertTrue('apple'.islower())\n",
        "\n",
        "class TestClass1(unittest.TestCase):\n",
        "\n",
        "    def test_case_1(self):\n",
        "        self.assertEqual('John Smith'.split(), [\"John\", \"Smith\"])\n",
        "\n",
        "class TestClass2(unittest.TestCase):\n",
        "\n",
        "    def test_case_1(self):\n",
        "        self.assertEqual('3.9'.split('.'), ['3', '9'])\n",
        "\n",
        "class TestClass3(unittest.TestCase):\n",
        "\n",
        "    def test_case_1(self):\n",
        "        self.assertEqual('#'.join(['sport', 'gym']), 'sport#gym')"
      ],
      "metadata": {
        "colab": {
          "base_uri": "https://localhost:8080/"
        },
        "id": "UeFbEZLk_h5s",
        "outputId": "11f4e01e-db2b-420c-9215-784fe1c11625"
      },
      "execution_count": null,
      "outputs": [
        {
          "output_type": "stream",
          "name": "stdout",
          "text": [
            "Overwriting 07_class_test_execition_order.py\n"
          ]
        }
      ]
    },
    {
      "cell_type": "code",
      "source": [
        "!python -m unittest 07_class_test_execition_order.py -v"
      ],
      "metadata": {
        "colab": {
          "base_uri": "https://localhost:8080/"
        },
        "id": "fMrouH59ABee",
        "outputId": "dc664aca-29e4-4eca-975b-2e31cdcf565d"
      },
      "execution_count": null,
      "outputs": [
        {
          "output_type": "stream",
          "name": "stdout",
          "text": [
            "test_case_5 (07_class_test_execition_order.TestClass1) ... ok\n",
            "test_case_1 (07_class_test_execition_order.TestClass2) ... ok\n",
            "test_case_2 (07_class_test_execition_order.TestClass3) ... ok\n",
            "test_case_ (07_class_test_execition_order.TestClass4) ... ok\n",
            "\n",
            "----------------------------------------------------------------------\n",
            "Ran 4 tests in 0.000s\n",
            "\n",
            "OK\n"
          ]
        }
      ]
    },
    {
      "cell_type": "code",
      "source": [
        "%%writefile 08_test_execution_examples.py\n",
        "import unittest\n",
        "\n",
        "\n",
        "class TestClass1(unittest.TestCase):\n",
        "\n",
        "    def test_case_1(self):\n",
        "        self.assertEqual('John Smith'.split(), [\"John\", \"Smith\"])\n",
        "\n",
        "    def test_case_2(self):\n",
        "        self.assertTrue('apple'.islower())\n",
        "\n",
        "class TestClass2(unittest.TestCase):\n",
        "\n",
        "    def test_case_1(self):\n",
        "        self.assertEqual('3.9'.split('.'), ['3', '9'])\n",
        "\n",
        "class TestClass3(unittest.TestCase):\n",
        "\n",
        "    def test_case_1(self):\n",
        "        self.assertEqual('#'.join(['sport', 'gym']), 'sport#gym')"
      ],
      "metadata": {
        "colab": {
          "base_uri": "https://localhost:8080/"
        },
        "id": "KCMjETotrIml",
        "outputId": "84aec564-fdca-49e0-c8bc-2463fec43cb6"
      },
      "execution_count": null,
      "outputs": [
        {
          "output_type": "stream",
          "name": "stdout",
          "text": [
            "Writing 08_test_execution_examples.py\n"
          ]
        }
      ]
    },
    {
      "cell_type": "code",
      "source": [
        "!python -m unittest 08_test_execution_examples.py -v"
      ],
      "metadata": {
        "colab": {
          "base_uri": "https://localhost:8080/"
        },
        "id": "cArT9fKgrPDc",
        "outputId": "000eecf4-be72-44da-aad1-146c82b0256e"
      },
      "execution_count": null,
      "outputs": [
        {
          "output_type": "stream",
          "name": "stdout",
          "text": [
            "test_case_1 (08_test_execution_examples.TestClass1) ... ok\n",
            "test_case_2 (08_test_execution_examples.TestClass1) ... ok\n",
            "test_case_1 (08_test_execution_examples.TestClass2) ... ok\n",
            "test_case_1 (08_test_execution_examples.TestClass3) ... ok\n",
            "\n",
            "----------------------------------------------------------------------\n",
            "Ran 4 tests in 0.000s\n",
            "\n",
            "OK\n"
          ]
        }
      ]
    },
    {
      "cell_type": "code",
      "source": [
        "!python -m unittest 08_test_execution_examples.TestClass1 -v"
      ],
      "metadata": {
        "colab": {
          "base_uri": "https://localhost:8080/"
        },
        "id": "IeKAF5wLr1zd",
        "outputId": "20e5f72b-617f-49b1-88e3-cfb7fccf43d1"
      },
      "execution_count": null,
      "outputs": [
        {
          "output_type": "stream",
          "name": "stdout",
          "text": [
            "test_case_1 (08_test_execution_examples.TestClass1) ... ok\n",
            "test_case_2 (08_test_execution_examples.TestClass1) ... ok\n",
            "\n",
            "----------------------------------------------------------------------\n",
            "Ran 2 tests in 0.000s\n",
            "\n",
            "OK\n"
          ]
        }
      ]
    },
    {
      "cell_type": "code",
      "source": [
        "!python -m unittest 08_test_execution_examples.TestClass1.test_case_2 -v"
      ],
      "metadata": {
        "colab": {
          "base_uri": "https://localhost:8080/"
        },
        "id": "fnFNjysor_aZ",
        "outputId": "ce5768a8-3849-4804-bac4-016524459a67"
      },
      "execution_count": null,
      "outputs": [
        {
          "output_type": "stream",
          "name": "stdout",
          "text": [
            "test_case_2 (08_test_execution_examples.TestClass1) ... ok\n",
            "\n",
            "----------------------------------------------------------------------\n",
            "Ran 1 test in 0.000s\n",
            "\n",
            "OK\n"
          ]
        }
      ]
    },
    {
      "cell_type": "code",
      "source": [
        "%%writefile 09_test_execution_examples.py\n",
        "import unittest\n",
        "\n",
        "\n",
        "class TestClass1(unittest.TestCase):\n",
        "\n",
        "    def test_case_1(self):\n",
        "        self.assertEqual('John Smith'.split(), [\"John\", \"Smith\"])\n",
        "\n",
        "    def test_case_2(self):\n",
        "        self.assertTrue('Apple'.islower())\n",
        "\n",
        "    def test_case_3(self):\n",
        "        self.assertEqual('#'.join(['sport', 'gym']), '#sport#gym')\n",
        "\n",
        "\n",
        "class TestClass2(unittest.TestCase):\n",
        "\n",
        "    def test_case_1(self):\n",
        "        self.assertEqual('3.9'.split('.'), ['3', '9'])"
      ],
      "metadata": {
        "colab": {
          "base_uri": "https://localhost:8080/"
        },
        "id": "jJp7DCx6sIV6",
        "outputId": "db4e92c9-43a5-485c-ac1d-20818f2bda05"
      },
      "execution_count": null,
      "outputs": [
        {
          "output_type": "stream",
          "name": "stdout",
          "text": [
            "Overwriting 09_test_execution_examples.py\n"
          ]
        }
      ]
    },
    {
      "cell_type": "code",
      "source": [
        "!python -m unittest 09_test_execution_examples.py -v"
      ],
      "metadata": {
        "colab": {
          "base_uri": "https://localhost:8080/"
        },
        "id": "Y-Ak9u2Rsui8",
        "outputId": "8b4e0677-82cb-4df1-979b-25d4a7cc9fba"
      },
      "execution_count": null,
      "outputs": [
        {
          "output_type": "stream",
          "name": "stdout",
          "text": [
            "test_case_1 (09_test_execution_examples.TestClass1) ... ok\n",
            "test_case_2 (09_test_execution_examples.TestClass1) ... FAIL\n",
            "test_case_3 (09_test_execution_examples.TestClass1) ... FAIL\n",
            "test_case_1 (09_test_execution_examples.TestClass2) ... ok\n",
            "\n",
            "======================================================================\n",
            "FAIL: test_case_2 (09_test_execution_examples.TestClass1)\n",
            "----------------------------------------------------------------------\n",
            "Traceback (most recent call last):\n",
            "  File \"/content/09_test_execution_examples.py\", line 10, in test_case_2\n",
            "    self.assertTrue('Apple'.islower())\n",
            "AssertionError: False is not true\n",
            "\n",
            "======================================================================\n",
            "FAIL: test_case_3 (09_test_execution_examples.TestClass1)\n",
            "----------------------------------------------------------------------\n",
            "Traceback (most recent call last):\n",
            "  File \"/content/09_test_execution_examples.py\", line 13, in test_case_3\n",
            "    self.assertEqual('#'.join(['sport', 'gym']), '#sport#gym')\n",
            "AssertionError: 'sport#gym' != '#sport#gym'\n",
            "- sport#gym\n",
            "+ #sport#gym\n",
            "? +\n",
            "\n",
            "\n",
            "----------------------------------------------------------------------\n",
            "Ran 4 tests in 0.001s\n",
            "\n",
            "FAILED (failures=2)\n"
          ]
        }
      ]
    },
    {
      "cell_type": "code",
      "source": [
        "!python -m unittest 09_test_execution_examples.py -v -f  # -f flag is use to end test on first fail"
      ],
      "metadata": {
        "colab": {
          "base_uri": "https://localhost:8080/"
        },
        "id": "jNsYKuWctCnl",
        "outputId": "ae7e72fd-b983-4711-c1d6-83c0aa848ed3"
      },
      "execution_count": null,
      "outputs": [
        {
          "output_type": "stream",
          "name": "stdout",
          "text": [
            "test_case_1 (09_test_execution_examples.TestClass1) ... ok\n",
            "test_case_2 (09_test_execution_examples.TestClass1) ... FAIL\n",
            "\n",
            "======================================================================\n",
            "FAIL: test_case_2 (09_test_execution_examples.TestClass1)\n",
            "----------------------------------------------------------------------\n",
            "Traceback (most recent call last):\n",
            "  File \"/content/09_test_execution_examples.py\", line 10, in test_case_2\n",
            "    self.assertTrue('Apple'.islower())\n",
            "AssertionError: False is not true\n",
            "\n",
            "----------------------------------------------------------------------\n",
            "Ran 2 tests in 0.000s\n",
            "\n",
            "FAILED (failures=1)\n"
          ]
        }
      ]
    },
    {
      "cell_type": "code",
      "source": [],
      "metadata": {
        "id": "phTEYXmYtO38"
      },
      "execution_count": null,
      "outputs": []
    },
    {
      "cell_type": "markdown",
      "source": [
        "# ***Assertion methods***"
      ],
      "metadata": {
        "id": "w7mrDo0Kvr6c"
      }
    },
    {
      "cell_type": "code",
      "source": [
        "%%writefile 01_assertEqual.py\n",
        "import unittest\n",
        "\n",
        "\n",
        "class TestClass(unittest.TestCase):\n",
        "\n",
        "    def test_case_1(self):\n",
        "        self.assertEqual('aws'.upper(), 'AWS')\n",
        "\n",
        "    def test_case_2(self):\n",
        "        self.assertEqual('aws'.upper(), 'AWS')\n",
        "\n",
        "    def test_case_3(self):\n",
        "        self.assertEqual('3.9.0'.split('.'), ['3', '9', 0])\n",
        "\n",
        "    def test_case_4(self):\n",
        "        self.assertEqual(tuple('3.9.0'.split('.')), ('3', '9', 0))\n",
        "\n",
        "    def test_case_5(self):\n",
        "        self.assertEqual({2, 3, 4}, {4, 3, 2, 1})\n",
        "\n",
        "    def test_case_6(self):\n",
        "        self.assertNotEqual('aws'.upper(), 'aws')"
      ],
      "metadata": {
        "colab": {
          "base_uri": "https://localhost:8080/"
        },
        "id": "rbAfaG6zvvz5",
        "outputId": "13494536-47e2-4d7b-cc63-9be1bc1239fa"
      },
      "execution_count": null,
      "outputs": [
        {
          "output_type": "stream",
          "name": "stdout",
          "text": [
            "Overwriting 01_assertEqual.py\n"
          ]
        }
      ]
    },
    {
      "cell_type": "code",
      "source": [
        "!python -m unittest 01_assertEqual.py -v"
      ],
      "metadata": {
        "colab": {
          "base_uri": "https://localhost:8080/"
        },
        "id": "rMayJQ7oxFPi",
        "outputId": "d2152953-19f9-46cb-eed2-7131cb3d11cd"
      },
      "execution_count": null,
      "outputs": [
        {
          "output_type": "stream",
          "name": "stdout",
          "text": [
            "test_case_1 (01_assertEqual.TestClass) ... ok\n",
            "test_case_2 (01_assertEqual.TestClass) ... ok\n",
            "test_case_3 (01_assertEqual.TestClass) ... FAIL\n",
            "test_case_4 (01_assertEqual.TestClass) ... FAIL\n",
            "test_case_5 (01_assertEqual.TestClass) ... FAIL\n",
            "test_case_6 (01_assertEqual.TestClass) ... ok\n",
            "\n",
            "======================================================================\n",
            "FAIL: test_case_3 (01_assertEqual.TestClass)\n",
            "----------------------------------------------------------------------\n",
            "Traceback (most recent call last):\n",
            "  File \"/content/01_assertEqual.py\", line 13, in test_case_3\n",
            "    self.assertEqual('3.9.0'.split('.'), ['3', '9', 0])\n",
            "AssertionError: Lists differ: ['3', '9', '0'] != ['3', '9', 0]\n",
            "\n",
            "First differing element 2:\n",
            "'0'\n",
            "0\n",
            "\n",
            "- ['3', '9', '0']\n",
            "?            - -\n",
            "\n",
            "+ ['3', '9', 0]\n",
            "\n",
            "======================================================================\n",
            "FAIL: test_case_4 (01_assertEqual.TestClass)\n",
            "----------------------------------------------------------------------\n",
            "Traceback (most recent call last):\n",
            "  File \"/content/01_assertEqual.py\", line 16, in test_case_4\n",
            "    self.assertEqual(tuple('3.9.0'.split('.')), ('3', '9', 0))\n",
            "AssertionError: Tuples differ: ('3', '9', '0') != ('3', '9', 0)\n",
            "\n",
            "First differing element 2:\n",
            "'0'\n",
            "0\n",
            "\n",
            "- ('3', '9', '0')\n",
            "?            - -\n",
            "\n",
            "+ ('3', '9', 0)\n",
            "\n",
            "======================================================================\n",
            "FAIL: test_case_5 (01_assertEqual.TestClass)\n",
            "----------------------------------------------------------------------\n",
            "Traceback (most recent call last):\n",
            "  File \"/content/01_assertEqual.py\", line 19, in test_case_5\n",
            "    self.assertEqual({2, 3, 4}, {4, 3, 2, 1})\n",
            "AssertionError: Items in the second set but not the first:\n",
            "1\n",
            "\n",
            "----------------------------------------------------------------------\n",
            "Ran 6 tests in 0.001s\n",
            "\n",
            "FAILED (failures=3)\n"
          ]
        }
      ]
    },
    {
      "cell_type": "code",
      "source": [
        "## AlmostEqual method rounds to the seventh decimal place\n",
        "##\n",
        "0.2 + 0.1 == 0.3"
      ],
      "metadata": {
        "colab": {
          "base_uri": "https://localhost:8080/"
        },
        "id": "KloIBm7o3pXD",
        "outputId": "e21a02d9-69b9-4fb2-9db7-5856f786b8d4"
      },
      "execution_count": null,
      "outputs": [
        {
          "output_type": "execute_result",
          "data": {
            "text/plain": [
              "False"
            ]
          },
          "metadata": {},
          "execution_count": 47
        }
      ]
    },
    {
      "cell_type": "code",
      "source": [
        "%%writefile 02_assertAlmostEqual.py\n",
        "import unittest\n",
        "\n",
        "\n",
        "class TestClass(unittest.TestCase):\n",
        "\n",
        "    def test_case_1(self):\n",
        "        self.assertEqual(0.1 + 0.2, 0.3)\n",
        "\n",
        "    def test_case_2(self):\n",
        "        self.assertAlmostEqual(0.1 + 0.2, 0.3)\n",
        "\n",
        "    def test_case_3(self):\n",
        "        self.assertAlmostEqual(0.1234567, 0.1234567)\n",
        "\n",
        "    def test_case_4(self):\n",
        "        self.assertAlmostEqual(0.12345678, 0.12345679)\n",
        "\n",
        "    def test_case_5(self):\n",
        "        self.assertAlmostEqual(0.1234567, 0.1234568)\n",
        "\n",
        "    def test_case_6(self):\n",
        "        self.assertAlmostEqual(0.1234567, 0.1234568, 6)"
      ],
      "metadata": {
        "colab": {
          "base_uri": "https://localhost:8080/"
        },
        "id": "MpQXpJIr1dX_",
        "outputId": "1cee5bd8-6c1a-448c-cd03-795cf65d6450"
      },
      "execution_count": null,
      "outputs": [
        {
          "output_type": "stream",
          "name": "stdout",
          "text": [
            "Writing 02_assertAlmostEqual.py\n"
          ]
        }
      ]
    },
    {
      "cell_type": "code",
      "source": [
        "!python -m unittest 02_assertAlmostEqual.py -v"
      ],
      "metadata": {
        "colab": {
          "base_uri": "https://localhost:8080/"
        },
        "id": "CrL9xlbn3MT0",
        "outputId": "0f8fe48b-8a35-4075-9827-0c6caee55a35"
      },
      "execution_count": null,
      "outputs": [
        {
          "output_type": "stream",
          "name": "stdout",
          "text": [
            "test_case_1 (02_assertAlmostEqual.TestClass) ... FAIL\n",
            "test_case_2 (02_assertAlmostEqual.TestClass) ... ok\n",
            "test_case_3 (02_assertAlmostEqual.TestClass) ... ok\n",
            "test_case_4 (02_assertAlmostEqual.TestClass) ... ok\n",
            "test_case_5 (02_assertAlmostEqual.TestClass) ... FAIL\n",
            "test_case_6 (02_assertAlmostEqual.TestClass) ... ok\n",
            "\n",
            "======================================================================\n",
            "FAIL: test_case_1 (02_assertAlmostEqual.TestClass)\n",
            "----------------------------------------------------------------------\n",
            "Traceback (most recent call last):\n",
            "  File \"/content/02_assertAlmostEqual.py\", line 7, in test_case_1\n",
            "    self.assertEqual(0.1 + 0.2, 0.3)\n",
            "AssertionError: 0.30000000000000004 != 0.3\n",
            "\n",
            "======================================================================\n",
            "FAIL: test_case_5 (02_assertAlmostEqual.TestClass)\n",
            "----------------------------------------------------------------------\n",
            "Traceback (most recent call last):\n",
            "  File \"/content/02_assertAlmostEqual.py\", line 19, in test_case_5\n",
            "    self.assertAlmostEqual(0.1234567, 0.1234568)\n",
            "AssertionError: 0.1234567 != 0.1234568 within 7 places (1.0000000000287557e-07 difference)\n",
            "\n",
            "----------------------------------------------------------------------\n",
            "Ran 6 tests in 0.001s\n",
            "\n",
            "FAILED (failures=2)\n"
          ]
        }
      ]
    },
    {
      "cell_type": "code",
      "source": [
        "%%writefile 03_assertGreater.py\n",
        "import unittest\n",
        "\n",
        "\n",
        "class TestClass(unittest.TestCase):\n",
        "\n",
        "    def test_case_1(self):\n",
        "        self.assertGreater(0.2, 0.1)\n",
        "\n",
        "    def test_case_2(self):\n",
        "        self.assertGreaterEqual(0.2, 0.2)\n",
        "\n",
        "    def test_case_3(self):\n",
        "        self.assertLess(0.3, 0.4)\n",
        "\n",
        "    def test_case_4(self):\n",
        "        self.assertLessEqual(0.4, 0.4)"
      ],
      "metadata": {
        "colab": {
          "base_uri": "https://localhost:8080/"
        },
        "id": "C-f0CZDa3neS",
        "outputId": "aa4daacd-e1ff-42c6-b878-48e140f32dcf"
      },
      "execution_count": null,
      "outputs": [
        {
          "output_type": "stream",
          "name": "stdout",
          "text": [
            "Overwriting 03_assertGreater.py\n"
          ]
        }
      ]
    },
    {
      "cell_type": "code",
      "source": [
        "!python -m unittest 03_assertGreater.py -v"
      ],
      "metadata": {
        "colab": {
          "base_uri": "https://localhost:8080/"
        },
        "id": "tsiXq2d36DN8",
        "outputId": "e946aad3-e00f-48ea-a76f-fb2bc31fbc47"
      },
      "execution_count": null,
      "outputs": [
        {
          "output_type": "stream",
          "name": "stdout",
          "text": [
            "test_case_1 (03_assertGreater.TestClass) ... ok\n",
            "test_case_2 (03_assertGreater.TestClass) ... ok\n",
            "test_case_3 (03_assertGreater.TestClass) ... ok\n",
            "test_case_4 (03_assertGreater.TestClass) ... ok\n",
            "\n",
            "----------------------------------------------------------------------\n",
            "Ran 4 tests in 0.000s\n",
            "\n",
            "OK\n"
          ]
        }
      ]
    },
    {
      "cell_type": "code",
      "source": [
        "%%writefile 04_assertTrue.py\n",
        "import unittest\n",
        "\n",
        "\n",
        "class TestClass(unittest.TestCase):\n",
        "\n",
        "    def test_case_1(self):\n",
        "        self.assertTrue(isinstance('aws', str))\n",
        "\n",
        "    def test_case_2(self):\n",
        "        self.assertTrue(isinstance('aws', int))\n",
        "\n",
        "    def test_case_3(self):\n",
        "        self.assertFalse(isinstance('aws', str))\n",
        "\n",
        "    def test_case_4(self):\n",
        "        self.assertFalse(isinstance('aws', int))"
      ],
      "metadata": {
        "colab": {
          "base_uri": "https://localhost:8080/"
        },
        "id": "bTb0HQRj7LXz",
        "outputId": "64ea178e-0dbb-414c-c0e3-4e609bbeb345"
      },
      "execution_count": null,
      "outputs": [
        {
          "output_type": "stream",
          "name": "stdout",
          "text": [
            "Overwriting 04_assertTrue.py\n"
          ]
        }
      ]
    },
    {
      "cell_type": "code",
      "source": [
        "!python -m unittest 04_assertTrue.py -v"
      ],
      "metadata": {
        "colab": {
          "base_uri": "https://localhost:8080/"
        },
        "id": "rkuDWqZo7e3F",
        "outputId": "11db4786-7536-4409-85ae-d6f075b14632"
      },
      "execution_count": null,
      "outputs": [
        {
          "output_type": "stream",
          "name": "stdout",
          "text": [
            "test_case_1 (04_assertTrue.TestClass) ... ok\n",
            "test_case_2 (04_assertTrue.TestClass) ... FAIL\n",
            "test_case_3 (04_assertTrue.TestClass) ... FAIL\n",
            "test_case_4 (04_assertTrue.TestClass) ... ok\n",
            "\n",
            "======================================================================\n",
            "FAIL: test_case_2 (04_assertTrue.TestClass)\n",
            "----------------------------------------------------------------------\n",
            "Traceback (most recent call last):\n",
            "  File \"/content/04_assertTrue.py\", line 10, in test_case_2\n",
            "    self.assertTrue(isinstance('aws', int))\n",
            "AssertionError: False is not true\n",
            "\n",
            "======================================================================\n",
            "FAIL: test_case_3 (04_assertTrue.TestClass)\n",
            "----------------------------------------------------------------------\n",
            "Traceback (most recent call last):\n",
            "  File \"/content/04_assertTrue.py\", line 13, in test_case_3\n",
            "    self.assertFalse(isinstance('aws', str))\n",
            "AssertionError: True is not false\n",
            "\n",
            "----------------------------------------------------------------------\n",
            "Ran 4 tests in 0.001s\n",
            "\n",
            "FAILED (failures=2)\n"
          ]
        }
      ]
    },
    {
      "cell_type": "code",
      "source": [
        "%%writefile 05_assertIn.py\n",
        "import unittest\n",
        "\n",
        "\n",
        "class TestClass(unittest.TestCase):\n",
        "\n",
        "    def test_case_1(self):\n",
        "        self.assertIn(\"@\", 'sample@email.com')\n",
        "\n",
        "    def test_case_2(self):\n",
        "        self.assertIn(\"@\", 'sample#email.com')\n",
        "\n",
        "    def test_case_3(self):\n",
        "        tech_stack = ['java', 'python', 'sql', 'aws']\n",
        "        self.assertIn('python', tech_stack)\n",
        "\n",
        "    def test_case_4(self):\n",
        "        tech_stack = ['java', 'python', 'sql', 'aws']\n",
        "        self.assertIn('c++', tech_stack)\n",
        "\n",
        "    def test_case_5(self):\n",
        "        tech_stack = {'java': 'mid', 'python': 'senior'}\n",
        "        self.assertIn('excel', tech_stack)\n",
        "\n",
        "    def test_case_6(self):\n",
        "        tech_stack = {'java': 'mid', 'python': 'senior'}\n",
        "        self.assertNotIn('excel', tech_stack)"
      ],
      "metadata": {
        "colab": {
          "base_uri": "https://localhost:8080/"
        },
        "id": "OZC7lMYm9P71",
        "outputId": "38035f4d-d815-4af8-d35b-1a7cf8bc8bca"
      },
      "execution_count": null,
      "outputs": [
        {
          "output_type": "stream",
          "name": "stdout",
          "text": [
            "Overwriting 05_assertIn.py\n"
          ]
        }
      ]
    },
    {
      "cell_type": "code",
      "source": [
        "!python -m unittest 05_assertIn.py -v"
      ],
      "metadata": {
        "colab": {
          "base_uri": "https://localhost:8080/"
        },
        "id": "PDxNZmOD9Xn2",
        "outputId": "bd3cfda8-9060-442d-f1dd-83dd006ffe06"
      },
      "execution_count": null,
      "outputs": [
        {
          "output_type": "stream",
          "name": "stdout",
          "text": [
            "test_case_1 (05_assertIn.TestClass) ... ok\n",
            "test_case_2 (05_assertIn.TestClass) ... FAIL\n",
            "test_case_3 (05_assertIn.TestClass) ... ok\n",
            "test_case_4 (05_assertIn.TestClass) ... FAIL\n",
            "test_case_5 (05_assertIn.TestClass) ... FAIL\n",
            "test_case_6 (05_assertIn.TestClass) ... ok\n",
            "\n",
            "======================================================================\n",
            "FAIL: test_case_2 (05_assertIn.TestClass)\n",
            "----------------------------------------------------------------------\n",
            "Traceback (most recent call last):\n",
            "  File \"/content/05_assertIn.py\", line 10, in test_case_2\n",
            "    self.assertIn(\"@\", 'sample#email.com')\n",
            "AssertionError: '@' not found in 'sample#email.com'\n",
            "\n",
            "======================================================================\n",
            "FAIL: test_case_4 (05_assertIn.TestClass)\n",
            "----------------------------------------------------------------------\n",
            "Traceback (most recent call last):\n",
            "  File \"/content/05_assertIn.py\", line 18, in test_case_4\n",
            "    self.assertIn('c++', tech_stack)\n",
            "AssertionError: 'c++' not found in ['java', 'python', 'sql', 'aws']\n",
            "\n",
            "======================================================================\n",
            "FAIL: test_case_5 (05_assertIn.TestClass)\n",
            "----------------------------------------------------------------------\n",
            "Traceback (most recent call last):\n",
            "  File \"/content/05_assertIn.py\", line 22, in test_case_5\n",
            "    self.assertIn('excel', tech_stack)\n",
            "AssertionError: 'excel' not found in {'java': 'mid', 'python': 'senior'}\n",
            "\n",
            "----------------------------------------------------------------------\n",
            "Ran 6 tests in 0.001s\n",
            "\n",
            "FAILED (failures=3)\n"
          ]
        }
      ]
    },
    {
      "cell_type": "code",
      "source": [
        "%%writefile 06_assertIsInstance.py\n",
        "import unittest\n",
        "\n",
        "\n",
        "class Person:\n",
        "\n",
        "    def __init__(self, name):\n",
        "        self.name = name\n",
        "\n",
        "\n",
        "class Worker(Person):\n",
        "    pass\n",
        "\n",
        "\n",
        "class TestPerson(unittest.TestCase):\n",
        "\n",
        "    def test_case_1(self):\n",
        "        self.assertIsInstance(Person, type)\n",
        "\n",
        "    def test_case_2(self):\n",
        "        person = Person('Joe')\n",
        "        self.assertIsInstance(person, Person)\n",
        "\n",
        "\n",
        "class TestWorker(unittest.TestCase):\n",
        "\n",
        "    def test_case_1(self):\n",
        "        self.assertIsInstance(Worker, type)\n",
        "\n",
        "    def test_case_2(self):\n",
        "        worker = Worker('Thor')\n",
        "        self.assertIsInstance(worker, Worker)\n",
        "\n",
        "    def test_case_3(self):\n",
        "        worker = Worker('Thor')\n",
        "        self.assertIsInstance(worker, Person)\n",
        "\n",
        "    def test_case_4(self):\n",
        "        person = Person('Thor')\n",
        "        self.assertIsInstance(person, Worker)"
      ],
      "metadata": {
        "colab": {
          "base_uri": "https://localhost:8080/"
        },
        "id": "r8QiRodb-vKH",
        "outputId": "32761f52-1f99-4cda-97f5-02b34f7c638b"
      },
      "execution_count": null,
      "outputs": [
        {
          "output_type": "stream",
          "name": "stdout",
          "text": [
            "Overwriting 06_assertIsInstance.py\n"
          ]
        }
      ]
    },
    {
      "cell_type": "code",
      "source": [
        "!python -m unittest 06_assertIsInstance.py -v"
      ],
      "metadata": {
        "colab": {
          "base_uri": "https://localhost:8080/"
        },
        "id": "7rRs7OgVD_-g",
        "outputId": "78ae4811-73dd-4001-e946-0446d2dcbb96"
      },
      "execution_count": null,
      "outputs": [
        {
          "output_type": "stream",
          "name": "stdout",
          "text": [
            "test_case_1 (06_assertIsInstance.TestPerson) ... ok\n",
            "test_case_2 (06_assertIsInstance.TestPerson) ... ok\n",
            "test_case_1 (06_assertIsInstance.TestWorker) ... ok\n",
            "test_case_2 (06_assertIsInstance.TestWorker) ... ok\n",
            "test_case_3 (06_assertIsInstance.TestWorker) ... ok\n",
            "test_case_4 (06_assertIsInstance.TestWorker) ... FAIL\n",
            "\n",
            "======================================================================\n",
            "FAIL: test_case_4 (06_assertIsInstance.TestWorker)\n",
            "----------------------------------------------------------------------\n",
            "Traceback (most recent call last):\n",
            "  File \"/content/06_assertIsInstance.py\", line 39, in test_case_4\n",
            "    self.assertIsInstance(person, Worker)\n",
            "AssertionError: <06_assertIsInstance.Person object at 0x7e6d8a143850> is not an instance of <class '06_assertIsInstance.Worker'>\n",
            "\n",
            "----------------------------------------------------------------------\n",
            "Ran 6 tests in 0.000s\n",
            "\n",
            "FAILED (failures=1)\n"
          ]
        }
      ]
    },
    {
      "cell_type": "code",
      "source": [
        "%%writefile 07_assertRaises.py\n",
        "import unittest\n",
        "\n",
        "\n",
        "def get_value(index, container):\n",
        "    return container[index]\n",
        "\n",
        "\n",
        "class TestClass(unittest.TestCase):\n",
        "\n",
        "    def test_case_1(self):\n",
        "        self.assertRaises(IndexError, get_value, 3, 'aws')\n",
        "\n",
        "    def test_case_2(self):\n",
        "        self.assertRaises(Exception, get_value, 3, 'aws')\n",
        "\n",
        "    def test_case_3(self):\n",
        "        with self.assertRaises(IndexError):\n",
        "            get_value(3, 'xxx')"
      ],
      "metadata": {
        "colab": {
          "base_uri": "https://localhost:8080/"
        },
        "id": "HG2kdh7iGJbI",
        "outputId": "cec352b1-548d-4c81-92c5-170274ce67b5"
      },
      "execution_count": null,
      "outputs": [
        {
          "output_type": "stream",
          "name": "stdout",
          "text": [
            "Overwriting 07_assertRaises.py\n"
          ]
        }
      ]
    },
    {
      "cell_type": "code",
      "source": [
        "!python -m unittest 07_assertRaises.py -v"
      ],
      "metadata": {
        "colab": {
          "base_uri": "https://localhost:8080/"
        },
        "id": "n34oEUikH76-",
        "outputId": "78328d95-cbd7-4dee-f54e-07f6ee552f8c"
      },
      "execution_count": null,
      "outputs": [
        {
          "output_type": "stream",
          "name": "stdout",
          "text": [
            "test_case_1 (07_assertRaises.TestClass) ... ok\n",
            "test_case_2 (07_assertRaises.TestClass) ... ok\n",
            "test_case_3 (07_assertRaises.TestClass) ... ok\n",
            "\n",
            "----------------------------------------------------------------------\n",
            "Ran 3 tests in 0.000s\n",
            "\n",
            "OK\n"
          ]
        }
      ]
    },
    {
      "cell_type": "markdown",
      "source": [
        "# ***Skipping tests***"
      ],
      "metadata": {
        "id": "8lXoeWT6JE2k"
      }
    },
    {
      "cell_type": "code",
      "source": [
        "%%writefile 01_skip.py\n",
        "import unittest\n",
        "\n",
        "\n",
        "class TestClass(unittest.TestCase):\n",
        "\n",
        "    def test_case_1(self):\n",
        "        self.assertEqual('aws'.upper(), 'AWS')\n",
        "\n",
        "    @unittest.skip('Some info...')\n",
        "    def test_case_2(self):\n",
        "        self.assertEqual('aws'.upper(), 'AWS')"
      ],
      "metadata": {
        "colab": {
          "base_uri": "https://localhost:8080/"
        },
        "id": "bQ8QCRHAH-b2",
        "outputId": "dce25409-7d1b-4fcd-d524-c82a26b1df8c"
      },
      "execution_count": null,
      "outputs": [
        {
          "output_type": "stream",
          "name": "stdout",
          "text": [
            "Overwriting 01_skip.py\n"
          ]
        }
      ]
    },
    {
      "cell_type": "code",
      "source": [
        "!python -m unittest 01_skip.py -v"
      ],
      "metadata": {
        "colab": {
          "base_uri": "https://localhost:8080/"
        },
        "id": "bRitIrKhJleA",
        "outputId": "8016ba0b-14be-4b01-8b29-ce036a7c274f"
      },
      "execution_count": null,
      "outputs": [
        {
          "output_type": "stream",
          "name": "stdout",
          "text": [
            "test_case_1 (01_skip.TestClass) ... ok\n",
            "test_case_2 (01_skip.TestClass) ... skipped 'Some info...'\n",
            "\n",
            "----------------------------------------------------------------------\n",
            "Ran 2 tests in 0.000s\n",
            "\n",
            "OK (skipped=1)\n"
          ]
        }
      ]
    },
    {
      "cell_type": "code",
      "source": [
        "%%writefile 02_skipIf.py\n",
        "from datetime import date\n",
        "import unittest\n",
        "\n",
        "\n",
        "class TestClass(unittest.TestCase):\n",
        "\n",
        "    def test_case_1(self):\n",
        "        self.assertEqual('aws'.upper(), 'AWS')\n",
        "\n",
        "    @unittest.skipIf(date.today().day % 2 == 1, \"Test even day only\")\n",
        "    def test_case_2(self):\n",
        "        self.assertEqual('aws'.upper(), 'AWS')\n",
        "\n",
        "    @unittest.skipIf(date.today().day % 2 == 0, \"Test odd day only\")\n",
        "    def test_case_3(self):\n",
        "        self.assertEqual('aws'.upper(), 'AWS')"
      ],
      "metadata": {
        "colab": {
          "base_uri": "https://localhost:8080/"
        },
        "id": "0hCw4GcbK2wz",
        "outputId": "99dfa180-c63e-4dc0-9d47-c87fe806b02b"
      },
      "execution_count": null,
      "outputs": [
        {
          "output_type": "stream",
          "name": "stdout",
          "text": [
            "Overwriting 02_skipIf.py\n"
          ]
        }
      ]
    },
    {
      "cell_type": "code",
      "source": [
        "!python -m unittest 02_skipIf.py -v"
      ],
      "metadata": {
        "colab": {
          "base_uri": "https://localhost:8080/"
        },
        "id": "d8mEI1bCLRyl",
        "outputId": "b1121c73-010a-4710-e278-cc7559e74d71"
      },
      "execution_count": null,
      "outputs": [
        {
          "output_type": "stream",
          "name": "stdout",
          "text": [
            "test_case_1 (02_skipIf.TestClass) ... ok\n",
            "test_case_2 (02_skipIf.TestClass) ... skipped 'Test even day only'\n",
            "test_case_3 (02_skipIf.TestClass) ... ok\n",
            "\n",
            "----------------------------------------------------------------------\n",
            "Ran 3 tests in 0.000s\n",
            "\n",
            "OK (skipped=1)\n"
          ]
        }
      ]
    },
    {
      "cell_type": "code",
      "source": [
        "import sys\n",
        "sys.platform"
      ],
      "metadata": {
        "colab": {
          "base_uri": "https://localhost:8080/",
          "height": 35
        },
        "id": "a_D4-9t9DIPF",
        "outputId": "8f8d260b-e931-41d1-98b7-70e3bcb6b4d4"
      },
      "execution_count": null,
      "outputs": [
        {
          "output_type": "execute_result",
          "data": {
            "text/plain": [
              "'linux'"
            ],
            "application/vnd.google.colaboratory.intrinsic+json": {
              "type": "string"
            }
          },
          "metadata": {},
          "execution_count": 5
        }
      ]
    },
    {
      "cell_type": "code",
      "source": [
        "%%writefile 03_skipUnless.py\n",
        "import sys\n",
        "import unittest\n",
        "\n",
        "\n",
        "class TestClass(unittest.TestCase):\n",
        "\n",
        "    def test_case_1(self):\n",
        "        self.assertEqual('aws'.upper(), 'AWS')\n",
        "\n",
        "    @unittest.skipUnless(sys.platform.startswith('win'), 'Requires Windows')\n",
        "    def test_case_2(self):\n",
        "        self.assertEqual('aws'.upper(), 'AWS')\n",
        "\n",
        "    @unittest.skipUnless(sys.platform.startswith('lin'), 'Requires Linux')\n",
        "    def test_case_3(self):\n",
        "        self.assertEqual('aws'.upper(), 'AWS')"
      ],
      "metadata": {
        "colab": {
          "base_uri": "https://localhost:8080/"
        },
        "id": "1aJgeT_LCgBe",
        "outputId": "5638192c-dcb3-4b49-ede5-65362fdf099c"
      },
      "execution_count": null,
      "outputs": [
        {
          "output_type": "stream",
          "name": "stdout",
          "text": [
            "Overwriting 03_skipUnless.py\n"
          ]
        }
      ]
    },
    {
      "cell_type": "code",
      "source": [
        "!python -m unittest 03_skipUnless.py -v"
      ],
      "metadata": {
        "colab": {
          "base_uri": "https://localhost:8080/"
        },
        "id": "X_bKTjbUCmEg",
        "outputId": "de322e39-7c0a-4f78-a9c0-724d64a3a3f4"
      },
      "execution_count": null,
      "outputs": [
        {
          "output_type": "stream",
          "name": "stdout",
          "text": [
            "test_case_1 (03_skipUnless.TestClass) ... ok\n",
            "test_case_2 (03_skipUnless.TestClass) ... skipped 'Requires Windows'\n",
            "test_case_3 (03_skipUnless.TestClass) ... ok\n",
            "\n",
            "----------------------------------------------------------------------\n",
            "Ran 3 tests in 0.000s\n",
            "\n",
            "OK (skipped=1)\n"
          ]
        }
      ]
    },
    {
      "cell_type": "markdown",
      "source": [
        "# ***Test Fixtures***"
      ],
      "metadata": {
        "id": "-lt8I4wRDrNb"
      }
    },
    {
      "cell_type": "code",
      "source": [
        "%%writefile 01_module_level.py"
      ],
      "metadata": {
        "colab": {
          "base_uri": "https://localhost:8080/"
        },
        "id": "mEdHomFaDqOL",
        "outputId": "d5ce8dea-f346-40f7-d3a4-7520793e700e"
      },
      "execution_count": null,
      "outputs": [
        {
          "output_type": "stream",
          "name": "stdout",
          "text": [
            "Overwriting 01_module_level.py\n"
          ]
        }
      ]
    },
    {
      "cell_type": "code",
      "source": [
        "%%writefile 02_test_class_level.py\n",
        "import unittest\n",
        "\n",
        "\n",
        "def setUpModule():\n",
        "    print('setting up module...')\n",
        "\n",
        "def tearDownModule():\n",
        "    print('tearing down module')\n",
        "\n",
        "\n",
        "class TestClass1(unittest.TestCase):\n",
        "\n",
        "    @classmethod\n",
        "    def setUpClass(cls):\n",
        "        print(f'setting up class...{cls.__name__}')\n",
        "\n",
        "    @classmethod\n",
        "    def tearDownClass(cls):\n",
        "        print(f'tearing down class...{cls.__name__}')\n",
        "\n",
        "    def test_case_1(self):\n",
        "        self.assertEqual('John Smith'.split(), ['John', 'Smith'])\n",
        "\n",
        "    def test_case_2(self):\n",
        "        self.assertEqual('John Smith'.split(), ['John', 'Smith'])\n",
        "\n",
        "\n",
        "class TestClass2(unittest.TestCase):\n",
        "\n",
        "    def test_case_1(self):\n",
        "        self.assertEqual('3.9'.split('.'), ['3', '9'])\n",
        "\n",
        "\n",
        "class TestClass3(unittest.TestCase):\n",
        "\n",
        "    def test_case_1(self):\n",
        "        self.assertEqual('#'.join(['sport', 'gym']), 'sport#gym')\n"
      ],
      "metadata": {
        "colab": {
          "base_uri": "https://localhost:8080/"
        },
        "id": "kmK7qA1pD3bg",
        "outputId": "8163eb49-1787-479f-d8a6-89474f103be8"
      },
      "execution_count": null,
      "outputs": [
        {
          "output_type": "stream",
          "name": "stdout",
          "text": [
            "Overwriting 02_test_class_level.py\n"
          ]
        }
      ]
    },
    {
      "cell_type": "code",
      "source": [
        "!python -m unittest 02_test_class_level.py -v"
      ],
      "metadata": {
        "colab": {
          "base_uri": "https://localhost:8080/"
        },
        "id": "C8LWAaH5E6zr",
        "outputId": "c009e4ab-c178-47be-a28a-5cee21bac1dc"
      },
      "execution_count": null,
      "outputs": [
        {
          "output_type": "stream",
          "name": "stdout",
          "text": [
            "setting up module...\n",
            "setting up class...TestClass1\n",
            "test_case_1 (02_test_class_level.TestClass1) ... ok\n",
            "test_case_2 (02_test_class_level.TestClass1) ... ok\n",
            "tearing down class...TestClass1\n",
            "test_case_1 (02_test_class_level.TestClass2) ... ok\n",
            "test_case_1 (02_test_class_level.TestClass3) ... ok\n",
            "tearing down module\n",
            "\n",
            "----------------------------------------------------------------------\n",
            "Ran 4 tests in 0.001s\n",
            "\n",
            "OK\n"
          ]
        }
      ]
    },
    {
      "cell_type": "code",
      "source": [
        "%%writefile 03_test_case_level.py\n",
        "import unittest\n",
        "\n",
        "\n",
        "def setUpModule():\n",
        "    print('setting up module...')\n",
        "\n",
        "def tearDownModule():\n",
        "    print('tearing down module')\n",
        "\n",
        "\n",
        "class TestClass1(unittest.TestCase):\n",
        "\n",
        "    @classmethod\n",
        "    def setUpClass(cls):\n",
        "        print(f'setting up class...{cls.__name__}')\n",
        "\n",
        "    @classmethod\n",
        "    def tearDownClass(cls):\n",
        "        print(f'tearing down class...{cls.__name__}')\n",
        "\n",
        "    def setUp(self):\n",
        "        print('setting up...')\n",
        "\n",
        "    def tearDown(self):\n",
        "        print('tearing down...')\n",
        "\n",
        "    def test_case_1(self):\n",
        "        self.assertEqual('John Smith'.split(), ['John', 'Smith'])\n",
        "\n",
        "    def test_case_2(self):\n",
        "        self.assertEqual('John Smith'.split(), ['John', 'Smith'])\n",
        "\n",
        "\n",
        "class TestClass2(unittest.TestCase):\n",
        "\n",
        "    def test_case_1(self):\n",
        "        self.assertEqual('3.9'.split('.'), ['3', '9'])\n",
        "\n",
        "\n",
        "class TestClass3(unittest.TestCase):\n",
        "\n",
        "    def test_case_1(self):\n",
        "        self.assertEqual('#'.join(['sport', 'gym']), 'sport#gym')"
      ],
      "metadata": {
        "colab": {
          "base_uri": "https://localhost:8080/"
        },
        "id": "RRk8xe_OFA56",
        "outputId": "53dcd3e7-5c34-4e1e-9eeb-b89bc43ebf77"
      },
      "execution_count": null,
      "outputs": [
        {
          "output_type": "stream",
          "name": "stdout",
          "text": [
            "Overwriting 03_test_case_level.py\n"
          ]
        }
      ]
    },
    {
      "cell_type": "code",
      "source": [
        "!python -m unittest 03_test_case_level.py -v"
      ],
      "metadata": {
        "colab": {
          "base_uri": "https://localhost:8080/"
        },
        "id": "1R8laYYOGZtl",
        "outputId": "38410d23-dafc-43fb-ef54-7c55bdc6e67f"
      },
      "execution_count": null,
      "outputs": [
        {
          "output_type": "stream",
          "name": "stdout",
          "text": [
            "setting up module...\n",
            "setting up class...TestClass1\n",
            "test_case_1 (03_test_case_level.TestClass1) ... setting up...\n",
            "tearing down...\n",
            "ok\n",
            "test_case_2 (03_test_case_level.TestClass1) ... setting up...\n",
            "tearing down...\n",
            "ok\n",
            "tearing down class...TestClass1\n",
            "test_case_1 (03_test_case_level.TestClass2) ... ok\n",
            "test_case_1 (03_test_case_level.TestClass3) ... ok\n",
            "tearing down module\n",
            "\n",
            "----------------------------------------------------------------------\n",
            "Ran 4 tests in 0.000s\n",
            "\n",
            "OK\n"
          ]
        }
      ]
    },
    {
      "cell_type": "markdown",
      "source": [
        "# ***Functions***"
      ],
      "metadata": {
        "id": "zSGwGh0rHIai"
      }
    },
    {
      "cell_type": "code",
      "source": [
        "%%writefile rectangle.py\n",
        "\n",
        "def area(width, height):\n",
        "    \"\"\"The function returns area of the rectangle\"\"\"\n",
        "\n",
        "    if not (isinstance(width, (int, float)) and\n",
        "            isinstance(height, (int, float))):\n",
        "        raise TypeError('The width and height must be of type int or float.')\n",
        "\n",
        "    if not (width > 0 and height > 0):\n",
        "        raise ValueError('The width and height must be positive.')\n",
        "\n",
        "    return width * height"
      ],
      "metadata": {
        "colab": {
          "base_uri": "https://localhost:8080/"
        },
        "id": "7wmDUquzHHTF",
        "outputId": "7ec433c1-1011-4010-b83b-86ff606be7ab"
      },
      "execution_count": null,
      "outputs": [
        {
          "output_type": "stream",
          "name": "stdout",
          "text": [
            "Writing rectangle.py\n"
          ]
        }
      ]
    },
    {
      "cell_type": "code",
      "source": [
        "%%writefile test_rectangle.py\n",
        "import unittest\n",
        "from rectangle import area\n",
        "\n",
        "\n",
        "class TestArea(unittest.TestCase):\n",
        "\n",
        "    def test_area(self):\n",
        "        self.assertEqual(area(4, 5), 20, 'message')\n",
        "\n",
        "    def test_area_incorrect_type_should_raise_error(self):\n",
        "        self.assertRaises(TypeError, area, '4', '5')\n",
        "        self.assertRaises(TypeError, area, 4, '5')\n",
        "\n",
        "    def test_area_negative_value_should_raise_error(self):\n",
        "        self.assertRaises(ValueError, area, -1, 0)\n",
        "        self.assertRaises(ValueError, area, 4, -70)"
      ],
      "metadata": {
        "colab": {
          "base_uri": "https://localhost:8080/"
        },
        "id": "PlSpUKC8IAOw",
        "outputId": "19814c0d-af1f-4d5f-af4a-73a20ad392d6"
      },
      "execution_count": null,
      "outputs": [
        {
          "output_type": "stream",
          "name": "stdout",
          "text": [
            "Overwriting test_rectangle.py\n"
          ]
        }
      ]
    },
    {
      "cell_type": "code",
      "source": [
        "!python -m unittest test_rectangle.py -v"
      ],
      "metadata": {
        "colab": {
          "base_uri": "https://localhost:8080/"
        },
        "id": "jN19mpz6JOab",
        "outputId": "01d838e9-a744-4d04-bb5a-d271ba92e5a3"
      },
      "execution_count": null,
      "outputs": [
        {
          "output_type": "stream",
          "name": "stdout",
          "text": [
            "test_area (test_rectangle.TestArea) ... ok\n",
            "test_area_incorrect_type_should_raise_error (test_rectangle.TestArea) ... ok\n",
            "test_area_negative_value_should_raise_error (test_rectangle.TestArea) ... ok\n",
            "\n",
            "----------------------------------------------------------------------\n",
            "Ran 3 tests in 0.001s\n",
            "\n",
            "OK\n"
          ]
        }
      ]
    },
    {
      "cell_type": "code",
      "source": [
        "%%writefile rectangle_2.py\n",
        "\n",
        "def area(width, height):\n",
        "    \"\"\"The function returns area of the rectangle\"\"\"\n",
        "\n",
        "    if not (isinstance(width, (int, float)) and\n",
        "            isinstance(height, (int, float))):\n",
        "        raise TypeError('The width and height must be of type int or float.')\n",
        "\n",
        "    if not (width > 0 and height > 0):\n",
        "        raise ValueError('The width and height must be positive.')\n",
        "\n",
        "    return width * height\n",
        "\n",
        "def perimeter(width, height):\n",
        "    \"\"\"The function returns the perimeter of the rectangle.\"\"\"\n",
        "\n",
        "    if not (isinstance(width, (int, float)) and\n",
        "            isinstance(height, (int, float))):\n",
        "        raise TypeError('The width and height must be of type int or float.')\n",
        "\n",
        "    if not (width > 0 and height > 0):\n",
        "        raise ValueError('The width and height must be positive.')\n",
        "\n",
        "    return 2 * (width + height)"
      ],
      "metadata": {
        "colab": {
          "base_uri": "https://localhost:8080/"
        },
        "id": "kn5P9j2RMQai",
        "outputId": "fda293ea-ba46-4e65-b777-a98428d109b3"
      },
      "execution_count": null,
      "outputs": [
        {
          "output_type": "stream",
          "name": "stdout",
          "text": [
            "Overwriting rectangle_2.py\n"
          ]
        }
      ]
    },
    {
      "cell_type": "code",
      "source": [
        "%%writefile test_rectangle2.py\n",
        "import unittest\n",
        "from rectangle_2 import area, perimeter\n",
        "\n",
        "\n",
        "class TestArea(unittest.TestCase):\n",
        "\n",
        "    def test_area(self):\n",
        "        self.assertEqual(area(4, 5), 20, 'message')\n",
        "\n",
        "    def test_area_incorrect_type_should_raise_error(self):\n",
        "        self.assertRaises(TypeError, area, '4', '5')\n",
        "        self.assertRaises(TypeError, area, 4, '5')\n",
        "\n",
        "    def test_area_negative_value_should_raise_error(self):\n",
        "        self.assertRaises(ValueError, area, -1, 0)\n",
        "        self.assertRaises(ValueError, area, 4, -70)\n",
        "\n",
        "\n",
        "class TestPerimeter(unittest.TestCase):\n",
        "\n",
        "    def test_perimeter(self):\n",
        "        self.assertEqual(perimeter(4, 5), 18, 'message')\n",
        "\n",
        "    def test_perimeter_incorrect_type_should_raise_error(self):\n",
        "        self.assertRaises(TypeError, perimeter, '4', '5')\n",
        "        self.assertRaises(TypeError, perimeter, 4, '5')\n",
        "\n",
        "    def test_perimeter_negative_value_should_raise_error(self):\n",
        "        self.assertRaises(ValueError, perimeter, -1, 0)\n",
        "        self.assertRaises(ValueError, perimeter, 4, -70)"
      ],
      "metadata": {
        "colab": {
          "base_uri": "https://localhost:8080/"
        },
        "id": "1MbeulMVNE46",
        "outputId": "634fdbca-4d89-46fb-c60b-6e91d94e96d3"
      },
      "execution_count": null,
      "outputs": [
        {
          "output_type": "stream",
          "name": "stdout",
          "text": [
            "Overwriting test_rectangle2.py\n"
          ]
        }
      ]
    },
    {
      "cell_type": "code",
      "source": [
        "!pytest test_rectangle2.py -v"
      ],
      "metadata": {
        "colab": {
          "base_uri": "https://localhost:8080/"
        },
        "id": "C24OaGySMS-Q",
        "outputId": "f120c346-ab5a-4bc5-f0d7-9ca85ca18227"
      },
      "execution_count": null,
      "outputs": [
        {
          "output_type": "stream",
          "name": "stdout",
          "text": [
            "\u001b[1m======================================= test session starts ========================================\u001b[0m\n",
            "platform linux -- Python 3.10.12, pytest-7.4.4, pluggy-1.4.0 -- /usr/bin/python3\n",
            "cachedir: .pytest_cache\n",
            "rootdir: /content\n",
            "plugins: anyio-3.7.1\n",
            "\u001b[1mcollecting ... \u001b[0m\u001b[1m\rcollected 6 items                                                                                  \u001b[0m\n",
            "\n",
            "test_rectangle2.py::TestArea::test_area \u001b[32mPASSED\u001b[0m\u001b[32m                                               [ 16%]\u001b[0m\n",
            "test_rectangle2.py::TestArea::test_area_incorrect_type_should_raise_error \u001b[32mPASSED\u001b[0m\u001b[32m             [ 33%]\u001b[0m\n",
            "test_rectangle2.py::TestArea::test_area_negative_value_should_raise_error \u001b[32mPASSED\u001b[0m\u001b[32m             [ 50%]\u001b[0m\n",
            "test_rectangle2.py::TestPerimeter::test_perimeter \u001b[32mPASSED\u001b[0m\u001b[32m                                     [ 66%]\u001b[0m\n",
            "test_rectangle2.py::TestPerimeter::test_perimeter_incorrect_type_should_raise_error \u001b[32mPASSED\u001b[0m\u001b[32m   [ 83%]\u001b[0m\n",
            "test_rectangle2.py::TestPerimeter::test_perimeter_negative_value_should_raise_error \u001b[32mPASSED\u001b[0m\u001b[32m   [100%]\u001b[0m\n",
            "\n",
            "\u001b[32m======================================== \u001b[32m\u001b[1m6 passed\u001b[0m\u001b[32m in 0.02s\u001b[0m\u001b[32m =========================================\u001b[0m\n"
          ]
        }
      ]
    },
    {
      "cell_type": "code",
      "source": [
        "%%writefile tax.py\n",
        "def calc_tax(amount, tax_rate):\n",
        "    return amount * (tax_rate / 100)"
      ],
      "metadata": {
        "colab": {
          "base_uri": "https://localhost:8080/"
        },
        "id": "lFhC4yGfN4fv",
        "outputId": "3423cb36-a93c-4e16-c714-026945c5b845"
      },
      "execution_count": null,
      "outputs": [
        {
          "output_type": "stream",
          "name": "stdout",
          "text": [
            "Writing tax.py\n"
          ]
        }
      ]
    },
    {
      "cell_type": "code",
      "source": [
        "from tax import calc_tax\n",
        "calc_tax(10000, 17)"
      ],
      "metadata": {
        "colab": {
          "base_uri": "https://localhost:8080/"
        },
        "id": "SMKb_M6NOcZX",
        "outputId": "68a1ce14-ba80-4bc2-df2c-c65e53844d83"
      },
      "execution_count": null,
      "outputs": [
        {
          "output_type": "execute_result",
          "data": {
            "text/plain": [
              "1700.0000000000002"
            ]
          },
          "metadata": {},
          "execution_count": 66
        }
      ]
    },
    {
      "cell_type": "code",
      "source": [
        "%%writefile test_tax.py\n",
        "import unittest\n",
        "from tax import calc_tax\n",
        "\n",
        "\n",
        "class TestCalcTax(unittest.TestCase):\n",
        "\n",
        "    def test_calc_tax_with_ten_percent(self):\n",
        "        self.assertEqual(100, calc_tax(1000, 10))\n",
        "\n",
        "    def test_calc_tax_with_fourteen_percent_with_almost_equal(self):\n",
        "        self.assertAlmostEqual(1700, calc_tax(10000, 17))\n",
        "\n",
        "    def test_calc_tax_with_fourteen_percent(self):\n",
        "        self.assertEqual(1700, calc_tax(10000, 17))"
      ],
      "metadata": {
        "colab": {
          "base_uri": "https://localhost:8080/"
        },
        "id": "qPhFG-kuOklf",
        "outputId": "be9f8bea-66c1-4778-84f3-f579d015261d"
      },
      "execution_count": null,
      "outputs": [
        {
          "output_type": "stream",
          "name": "stdout",
          "text": [
            "Overwriting test_tax.py\n"
          ]
        }
      ]
    },
    {
      "cell_type": "code",
      "source": [
        "!python -m unittest test_tax.py -v"
      ],
      "metadata": {
        "colab": {
          "base_uri": "https://localhost:8080/"
        },
        "id": "CT0FKqKjQKl6",
        "outputId": "6fa44f08-87bb-4087-9873-86dceb365142"
      },
      "execution_count": null,
      "outputs": [
        {
          "output_type": "stream",
          "name": "stdout",
          "text": [
            "test_calc_tax_with_fourteen_percent (test_tax.TestCalcTax) ... FAIL\n",
            "test_calc_tax_with_fourteen_percent_with_almost_equal (test_tax.TestCalcTax) ... ok\n",
            "test_calc_tax_with_ten_percent (test_tax.TestCalcTax) ... ok\n",
            "\n",
            "======================================================================\n",
            "FAIL: test_calc_tax_with_fourteen_percent (test_tax.TestCalcTax)\n",
            "----------------------------------------------------------------------\n",
            "Traceback (most recent call last):\n",
            "  File \"/content/test_tax.py\", line 14, in test_calc_tax_with_fourteen_percent\n",
            "    self.assertEqual(1700, calc_tax(10000, 17))\n",
            "AssertionError: 1700 != 1700.0000000000002\n",
            "\n",
            "----------------------------------------------------------------------\n",
            "Ran 3 tests in 0.001s\n",
            "\n",
            "FAILED (failures=1)\n"
          ]
        }
      ]
    },
    {
      "cell_type": "code",
      "source": [
        "%%writefile tax_2.py\n",
        "def calc_tax(amount, tax_rate):\n",
        "    \"\"\"The function returns the amount of income tax.\"\"\"\n",
        "\n",
        "    if not (isinstance(amount, (int, float))):\n",
        "        raise TypeError('The amount value must be of type int or float.')\n",
        "    if not amount > 0:\n",
        "        raise ValueError('The amount must be positive.')\n",
        "\n",
        "    if not (isinstance(tax_rate, float)):\n",
        "        raise TypeError('The tax_rate value must be float.')\n",
        "    if not 0 < tax_rate < 1:\n",
        "        raise ValueError('The tax_rate must be between 0 and 1.')\n",
        "\n",
        "    return amount * tax_rate"
      ],
      "metadata": {
        "colab": {
          "base_uri": "https://localhost:8080/"
        },
        "id": "eG_B5AUxR7QA",
        "outputId": "1f5ac436-b26c-4f55-ee4e-4afff7712a5d"
      },
      "execution_count": null,
      "outputs": [
        {
          "output_type": "stream",
          "name": "stdout",
          "text": [
            "Overwriting tax_2.py\n"
          ]
        }
      ]
    },
    {
      "cell_type": "code",
      "source": [
        "%%writefile test_tax_2.py\n",
        "import unittest\n",
        "from tax_2 import calc_tax\n",
        "\n",
        "\n",
        "class TestCalcTax(unittest.TestCase):\n",
        "\n",
        "    def test_calc_tax_with_ten_percent(self):\n",
        "        self.assertEqual(100, calc_tax(1000, 0.1))\n",
        "\n",
        "    def test_calc_tax_with_fourteen_percent_with_almost_equal(self):\n",
        "        self.assertAlmostEqual(1700, calc_tax(10000, 0.17))\n",
        "\n",
        "    def test_calc_tax_tax_rate_incorrect_type_should_raise_error(self):\n",
        "        self.assertRaises(TypeError, calc_tax, 1000, 2)\n",
        "\n",
        "    def test_calc_tax_tax_rate_incorrect_value_should_raise_error(self):\n",
        "        self.assertRaises(ValueError, calc_tax, 100, -0.1)\n",
        "        self.assertRaises(ValueError, calc_tax, 100, 1.0)\n",
        "\n",
        "    def test_calc_tax_amount_incorrect_type_should_raise_error(self):\n",
        "        self.assertRaises(TypeError, calc_tax, 'money', 0.2)\n",
        "        self.assertRaises(TypeError, calc_tax, '10', 0.2)\n",
        "\n",
        "    def test_calc_tax_amount_incorrect_value_should_raise_error(self):\n",
        "        self.assertRaises(ValueError, calc_tax, -5, 0.1)\n"
      ],
      "metadata": {
        "colab": {
          "base_uri": "https://localhost:8080/"
        },
        "id": "vdAX1XDISwnf",
        "outputId": "3e4988d1-26a4-49f1-a310-9ed4fc1784db"
      },
      "execution_count": null,
      "outputs": [
        {
          "output_type": "stream",
          "name": "stdout",
          "text": [
            "Overwriting test_tax_2.py\n"
          ]
        }
      ]
    },
    {
      "cell_type": "code",
      "source": [
        "!pytest test_tax_2.py -v"
      ],
      "metadata": {
        "colab": {
          "base_uri": "https://localhost:8080/"
        },
        "id": "ogAf73E-TGWX",
        "outputId": "a45c523d-5571-4e67-c51e-7d6bab4a12a3"
      },
      "execution_count": null,
      "outputs": [
        {
          "output_type": "stream",
          "name": "stdout",
          "text": [
            "\u001b[1m======================================= test session starts ========================================\u001b[0m\n",
            "platform linux -- Python 3.10.12, pytest-7.4.4, pluggy-1.4.0 -- /usr/bin/python3\n",
            "cachedir: .pytest_cache\n",
            "rootdir: /content\n",
            "plugins: anyio-3.7.1\n",
            "\u001b[1mcollecting ... \u001b[0m\u001b[1m\rcollected 6 items                                                                                  \u001b[0m\n",
            "\n",
            "test_tax_2.py::TestCalcTax::test_calc_tax_amount_incorrect_type_should_raise_error \u001b[32mPASSED\u001b[0m\u001b[32m    [ 16%]\u001b[0m\n",
            "test_tax_2.py::TestCalcTax::test_calc_tax_amount_incorrect_value_should_raise_error \u001b[32mPASSED\u001b[0m\u001b[32m   [ 33%]\u001b[0m\n",
            "test_tax_2.py::TestCalcTax::test_calc_tax_tax_rate_incorrect_type_should_raise_error \u001b[32mPASSED\u001b[0m\u001b[32m  [ 50%]\u001b[0m\n",
            "test_tax_2.py::TestCalcTax::test_calc_tax_tax_rate_incorrect_value_should_raise_error \u001b[32mPASSED\u001b[0m\u001b[32m [ 66%]\u001b[0m\n",
            "test_tax_2.py::TestCalcTax::test_calc_tax_with_fourteen_percent_with_almost_equal \u001b[32mPASSED\u001b[0m\u001b[32m     [ 83%]\u001b[0m\n",
            "test_tax_2.py::TestCalcTax::test_calc_tax_with_ten_percent \u001b[32mPASSED\u001b[0m\u001b[32m                            [100%]\u001b[0m\n",
            "\n",
            "\u001b[32m======================================== \u001b[32m\u001b[1m6 passed\u001b[0m\u001b[32m in 0.02s\u001b[0m\u001b[32m =========================================\u001b[0m\n"
          ]
        }
      ]
    },
    {
      "cell_type": "code",
      "source": [
        "%%writefile tax_task.py\n",
        "def calc_tax(amount, tax_rate, age):\n",
        "    \"\"\"The function returns the amount of income tax.\"\"\"\n",
        "\n",
        "    if not (isinstance(amount, (int, float))):\n",
        "        raise TypeError('The amount value must be of type int or float.')\n",
        "    if not amount > 0:\n",
        "        raise ValueError('The amount must be positive.')\n",
        "\n",
        "    if not (isinstance(tax_rate, float)):\n",
        "        raise TypeError('The tax_rate value must be float.')\n",
        "    if not 0 < tax_rate < 1:\n",
        "        raise ValueError('The tax_rate must be between 0 and 1.')\n",
        "\n",
        "    if not isinstance(age, int):\n",
        "        raise TypeError('The age value must be int.')\n",
        "    if not age > 0:\n",
        "        raise ValueError('The age value must be positive.')\n",
        "\n",
        "    if age <= 18:\n",
        "        return int(min(amount * tax_rate, 5000))\n",
        "    elif age <= 65:\n",
        "        return int(amount * tax_rate)\n",
        "    else:\n",
        "        return int(min(amount * tax_rate, 8000))"
      ],
      "metadata": {
        "colab": {
          "base_uri": "https://localhost:8080/"
        },
        "id": "jzDxV0yvXzQM",
        "outputId": "7642e17c-85c5-4602-fa10-300cdcd5d0bf"
      },
      "execution_count": null,
      "outputs": [
        {
          "output_type": "stream",
          "name": "stdout",
          "text": [
            "Overwriting tax_task.py\n"
          ]
        }
      ]
    },
    {
      "cell_type": "code",
      "source": [
        "%%writefile test_tax_task.py\n",
        "import unittest\n",
        "from tax_task import calc_tax\n",
        "\n",
        "\n",
        "class TestCalcTax(unittest.TestCase):\n",
        "\n",
        "    def test_calc_tax_with_ten_percent(self):\n",
        "        self.assertEqual(100, calc_tax(1000, 0.1, 20))\n",
        "        self.assertEqual(10000, calc_tax(100000, 0.1, 20))\n",
        "        self.assertEqual(5000, calc_tax(100000, 0.1, 17))\n",
        "        self.assertEqual(8000, calc_tax(100000, 0.1, 66))\n",
        "\n",
        "    def test_calc_tax_with_fourteen_percent_with_almost_equal(self):\n",
        "        self.assertAlmostEqual(1700, calc_tax(10000, 0.17, 10))\n",
        "        self.assertAlmostEqual(1700, calc_tax(10000, 0.17, 20))\n",
        "        self.assertAlmostEqual(1700, calc_tax(10000, 0.17, 70))\n",
        "\n",
        "    def test_calc_tax_tax_rate_incorrect_type_should_raise_error(self):\n",
        "        self.assertRaises(TypeError, calc_tax, 1000, 2, 33)\n",
        "\n",
        "    def test_calc_tax_tax_rate_incorrect_value_should_raise_error(self):\n",
        "        self.assertRaises(ValueError, calc_tax, 100, -0.1, 33)\n",
        "        self.assertRaises(ValueError, calc_tax, 100, 1.0, 33)\n",
        "\n",
        "    def test_calc_tax_amount_incorrect_type_should_raise_error(self):\n",
        "        self.assertRaises(TypeError, calc_tax, 'money', 0.2, 33)\n",
        "        self.assertRaises(TypeError, calc_tax, '10', 0.2, 33)\n",
        "\n",
        "    def test_calc_tax_amount_incorrect_value_should_raise_error(self):\n",
        "        self.assertRaises(ValueError, calc_tax, -5, 0.1, 33)\n",
        "\n",
        "    def test_calc_tax_age_incorrect_value_should_raise_error(self):\n",
        "        self.assertRaises(ValueError, calc_tax, 100000, 0.1, 0)\n",
        "        self.assertRaises(ValueError, calc_tax, 100000, 0.1, -100)\n",
        "        self.assertRaises(ValueError, calc_tax, 100000, 0.1, -2)\n",
        "\n",
        "    def test_calc_tax_age_incorrect_type_should_raise_error(self):\n",
        "        self.assertRaises(TypeError, calc_tax, 100000, 0.1, 18.5)\n",
        "        self.assertRaises(TypeError, calc_tax, 100000, 0.1, 'thirty')"
      ],
      "metadata": {
        "colab": {
          "base_uri": "https://localhost:8080/"
        },
        "id": "NLg0fzwLYl6v",
        "outputId": "9c48b5b6-1b89-40e7-dc9c-f0e52a765197"
      },
      "execution_count": null,
      "outputs": [
        {
          "output_type": "stream",
          "name": "stdout",
          "text": [
            "Overwriting test_tax_task.py\n"
          ]
        }
      ]
    },
    {
      "cell_type": "code",
      "source": [
        "!pytest test_tax_task.py -v"
      ],
      "metadata": {
        "colab": {
          "base_uri": "https://localhost:8080/"
        },
        "id": "F98ugsgaZg7t",
        "outputId": "dfc44f45-f378-4c9d-8837-0687b49f307c"
      },
      "execution_count": null,
      "outputs": [
        {
          "output_type": "stream",
          "name": "stdout",
          "text": [
            "\u001b[1m======================================= test session starts ========================================\u001b[0m\n",
            "platform linux -- Python 3.10.12, pytest-7.4.4, pluggy-1.4.0 -- /usr/bin/python3\n",
            "cachedir: .pytest_cache\n",
            "rootdir: /content\n",
            "plugins: anyio-3.7.1\n",
            "\u001b[1mcollecting ... \u001b[0m\u001b[1m\rcollected 8 items                                                                                  \u001b[0m\n",
            "\n",
            "test_tax_task.py::TestCalcTax::test_calc_tax_age_incorrect_type_should_raise_error \u001b[32mPASSED\u001b[0m\u001b[32m    [ 12%]\u001b[0m\n",
            "test_tax_task.py::TestCalcTax::test_calc_tax_age_incorrect_value_should_raise_error \u001b[32mPASSED\u001b[0m\u001b[32m   [ 25%]\u001b[0m\n",
            "test_tax_task.py::TestCalcTax::test_calc_tax_amount_incorrect_type_should_raise_error \u001b[32mPASSED\u001b[0m\u001b[32m [ 37%]\u001b[0m\n",
            "test_tax_task.py::TestCalcTax::test_calc_tax_amount_incorrect_value_should_raise_error \u001b[32mPASSED\u001b[0m\u001b[32m [ 50%]\u001b[0m\n",
            "test_tax_task.py::TestCalcTax::test_calc_tax_tax_rate_incorrect_type_should_raise_error \u001b[32mPASSED\u001b[0m\u001b[32m [ 62%]\u001b[0m\n",
            "test_tax_task.py::TestCalcTax::test_calc_tax_tax_rate_incorrect_value_should_raise_error \u001b[32mPASSED\u001b[0m\u001b[32m [ 75%]\u001b[0m\n",
            "test_tax_task.py::TestCalcTax::test_calc_tax_with_fourteen_percent_with_almost_equal \u001b[32mPASSED\u001b[0m\u001b[32m  [ 87%]\u001b[0m\n",
            "test_tax_task.py::TestCalcTax::test_calc_tax_with_ten_percent \u001b[32mPASSED\u001b[0m\u001b[32m                         [100%]\u001b[0m\n",
            "\n",
            "\u001b[32m======================================== \u001b[32m\u001b[1m8 passed\u001b[0m\u001b[32m in 0.02s\u001b[0m\u001b[32m =========================================\u001b[0m\n"
          ]
        }
      ]
    },
    {
      "cell_type": "code",
      "source": [
        "!mkdir -p calculator\n",
        "!mkdir -p tests"
      ],
      "metadata": {
        "id": "hj0n9sJL_TxY"
      },
      "execution_count": null,
      "outputs": []
    },
    {
      "cell_type": "code",
      "source": [
        "%%writefile calculator/__init__.py"
      ],
      "metadata": {
        "colab": {
          "base_uri": "https://localhost:8080/"
        },
        "id": "QSKll00DFIVt",
        "outputId": "1ea68b5b-0755-4cc2-9fd4-6ba202308aa5"
      },
      "execution_count": null,
      "outputs": [
        {
          "output_type": "stream",
          "name": "stdout",
          "text": [
            "Overwriting calculator/__init__.py\n"
          ]
        }
      ]
    },
    {
      "cell_type": "code",
      "source": [
        "%%writefile tests/__init__.py"
      ],
      "metadata": {
        "colab": {
          "base_uri": "https://localhost:8080/"
        },
        "id": "0AmW8j6NFKGv",
        "outputId": "0640ac5b-3011-49d1-9062-066bbefa38c3"
      },
      "execution_count": null,
      "outputs": [
        {
          "output_type": "stream",
          "name": "stdout",
          "text": [
            "Overwriting tests/__init__.py\n"
          ]
        }
      ]
    },
    {
      "cell_type": "code",
      "source": [
        "%%writefile calculator/calc_math.py\n",
        "class SimpleMathCalculator:\n",
        "\n",
        "    def add(self, x, y):\n",
        "        return x + y\n",
        "\n",
        "    def sub(self, x, y):\n",
        "        return x - y\n",
        "\n",
        "    def mul(self, x, y):\n",
        "        return x * y\n",
        "\n",
        "    def true_div(self, x, y):\n",
        "        return x / y\n",
        "\n",
        "    def floor_div(self, x, y):\n",
        "        return x // y"
      ],
      "metadata": {
        "id": "o90zkmL3ZkQt",
        "colab": {
          "base_uri": "https://localhost:8080/"
        },
        "outputId": "d93164db-aad2-468e-f8bf-90ecbe006232"
      },
      "execution_count": null,
      "outputs": [
        {
          "output_type": "stream",
          "name": "stdout",
          "text": [
            "Overwriting calculator/calc_math.py\n"
          ]
        }
      ]
    },
    {
      "cell_type": "code",
      "source": [
        "%%writefile tests/test_calc_math.py\n",
        "import unittest\n",
        "from calculator.calc_math import SimpleMathCalculator\n",
        "\n",
        "\n",
        "class TestSimpleMathCalculator(unittest.TestCase):\n",
        "\n",
        "    def test_add(self):\n",
        "        calc = SimpleMathCalculator()\n",
        "        self.assertEqual(calc.add(4, 3), 7)\n",
        "\n",
        "    def test_sub(self):\n",
        "        calc = SimpleMathCalculator()\n",
        "        self.assertEqual(calc.sub(4, 3), 1)\n",
        "\n",
        "    def test_mul(self):\n",
        "        calc = SimpleMathCalculator()\n",
        "        self.assertEqual(calc.mul(4, 3), 12)\n"
      ],
      "metadata": {
        "colab": {
          "base_uri": "https://localhost:8080/"
        },
        "id": "B-P-i3AaAGv_",
        "outputId": "5dea9fa9-a092-41f0-de8f-dcb00c006e21"
      },
      "execution_count": null,
      "outputs": [
        {
          "output_type": "stream",
          "name": "stdout",
          "text": [
            "Overwriting tests/test_calc_math.py\n"
          ]
        }
      ]
    },
    {
      "cell_type": "code",
      "source": [
        "!pytest tests/test_calc_math.py -v"
      ],
      "metadata": {
        "colab": {
          "base_uri": "https://localhost:8080/"
        },
        "id": "wyRVJf28BMRf",
        "outputId": "68ff0352-4cc2-47d6-d087-e36f61a4c89d"
      },
      "execution_count": null,
      "outputs": [
        {
          "output_type": "stream",
          "name": "stdout",
          "text": [
            "\u001b[1m======================================= test session starts ========================================\u001b[0m\n",
            "platform linux -- Python 3.10.12, pytest-7.4.4, pluggy-1.4.0 -- /usr/bin/python3\n",
            "cachedir: .pytest_cache\n",
            "rootdir: /content\n",
            "plugins: anyio-3.7.1\n",
            "\u001b[1mcollecting ... \u001b[0m\u001b[1m\rcollected 3 items                                                                                  \u001b[0m\n",
            "\n",
            "tests/test_calc_math.py::TestSimpleMathCalculator::test_add \u001b[32mPASSED\u001b[0m\u001b[32m                           [ 33%]\u001b[0m\n",
            "tests/test_calc_math.py::TestSimpleMathCalculator::test_mul \u001b[32mPASSED\u001b[0m\u001b[32m                           [ 66%]\u001b[0m\n",
            "tests/test_calc_math.py::TestSimpleMathCalculator::test_sub \u001b[32mPASSED\u001b[0m\u001b[32m                           [100%]\u001b[0m\n",
            "\n",
            "\u001b[32m======================================== \u001b[32m\u001b[1m3 passed\u001b[0m\u001b[32m in 0.02s\u001b[0m\u001b[32m =========================================\u001b[0m\n"
          ]
        }
      ]
    },
    {
      "cell_type": "code",
      "source": [
        "%%writefile tests/test_calc_math2.py\n",
        "import unittest\n",
        "from calculator.calc_math import SimpleMathCalculator\n",
        "\n",
        "\n",
        "def setUpModule():\n",
        "    print('setting up...')\n",
        "    global calc\n",
        "    calc = SimpleMathCalculator()\n",
        "\n",
        "def tearDownModule():\n",
        "    print('tearing down...')\n",
        "    global calc\n",
        "    del calc\n",
        "\n",
        "class TestSimpleMathCalculator(unittest.TestCase):\n",
        "\n",
        "    def test_add(self):\n",
        "        self.assertEqual(calc.add(4, 3), 7)\n",
        "\n",
        "    def test_sub(self):\n",
        "        self.assertEqual(calc.sub(4, 3), 1)\n",
        "\n",
        "    def test_mul(self):\n",
        "        self.assertEqual(calc.mul(4, 3), 12)"
      ],
      "metadata": {
        "colab": {
          "base_uri": "https://localhost:8080/"
        },
        "id": "vCjI_Dq0GqQT",
        "outputId": "754ac636-b083-4c4f-f817-f5eb850dfb9c"
      },
      "execution_count": null,
      "outputs": [
        {
          "output_type": "stream",
          "name": "stdout",
          "text": [
            "Overwriting tests/test_calc_math2.py\n"
          ]
        }
      ]
    },
    {
      "cell_type": "code",
      "source": [
        "!python -m unittest tests/test_calc_math2.py -v"
      ],
      "metadata": {
        "colab": {
          "base_uri": "https://localhost:8080/"
        },
        "id": "9ElYSZGzGtfp",
        "outputId": "00538e5b-2202-442b-b973-d802b46a1d38"
      },
      "execution_count": null,
      "outputs": [
        {
          "output_type": "stream",
          "name": "stdout",
          "text": [
            "setting up...\n",
            "test_add (tests.test_calc_math2.TestSimpleMathCalculator) ... ok\n",
            "test_mul (tests.test_calc_math2.TestSimpleMathCalculator) ... ok\n",
            "test_sub (tests.test_calc_math2.TestSimpleMathCalculator) ... ok\n",
            "tearing down...\n",
            "\n",
            "----------------------------------------------------------------------\n",
            "Ran 3 tests in 0.000s\n",
            "\n",
            "OK\n"
          ]
        }
      ]
    },
    {
      "cell_type": "code",
      "source": [
        "#### vvv set up and tear down class methods vvv"
      ],
      "metadata": {
        "id": "kdBAj5O8fmJU"
      },
      "execution_count": null,
      "outputs": []
    },
    {
      "cell_type": "code",
      "source": [
        "%%writefile tests/test_calc_math3.py\n",
        "import unittest\n",
        "from calculator.calc_math import SimpleMathCalculator\n",
        "\n",
        "\n",
        "class TestSimpleMathCalculatorAdd(unittest.TestCase):\n",
        "\n",
        "    @classmethod\n",
        "    def setUpClass(cls):\n",
        "        print('setting up class...')\n",
        "        cls.calc = SimpleMathCalculator()\n",
        "\n",
        "    @classmethod\n",
        "    def tearDownClass(cls):\n",
        "        print('tearing down class...')\n",
        "        del cls.calc\n",
        "\n",
        "    def test_add_int(self):\n",
        "        self.assertEqual(self.calc.add(4, 3), 7)\n",
        "\n",
        "    def test_add_float(self):\n",
        "        self.assertEqual(self.calc.add(4.0, 3.0), 7.0)\n",
        "\n",
        "    def test_add_both_negative(self):\n",
        "        self.assertEqual(self.calc.add(-4, -6), -10)"
      ],
      "metadata": {
        "colab": {
          "base_uri": "https://localhost:8080/"
        },
        "id": "8SCfNYFEd7qK",
        "outputId": "6ee4c90c-efc3-472d-ab69-418c2e9551cf"
      },
      "execution_count": null,
      "outputs": [
        {
          "output_type": "stream",
          "name": "stdout",
          "text": [
            "Overwriting tests/test_calc_math3.py\n"
          ]
        }
      ]
    },
    {
      "cell_type": "code",
      "source": [
        "!python -m unittest tests/test_calc_math3.py -v"
      ],
      "metadata": {
        "colab": {
          "base_uri": "https://localhost:8080/"
        },
        "id": "8fUcP8nPd8X_",
        "outputId": "b9ba8b1a-b8b4-47b5-c841-d9435993c37e"
      },
      "execution_count": null,
      "outputs": [
        {
          "output_type": "stream",
          "name": "stdout",
          "text": [
            "setting up class...\n",
            "test_add_both_negative (tests.test_calc_math3.TestSimpleMathCalculatorAdd) ... ok\n",
            "test_add_float (tests.test_calc_math3.TestSimpleMathCalculatorAdd) ... ok\n",
            "test_add_int (tests.test_calc_math3.TestSimpleMathCalculatorAdd) ... ok\n",
            "tearing down class...\n",
            "\n",
            "----------------------------------------------------------------------\n",
            "Ran 3 tests in 0.000s\n",
            "\n",
            "OK\n"
          ]
        }
      ]
    },
    {
      "cell_type": "code",
      "source": [
        "import sys\n",
        "print(sys.path[0])"
      ],
      "metadata": {
        "colab": {
          "base_uri": "https://localhost:8080/"
        },
        "id": "JpV4NrXrfLhX",
        "outputId": "3fc13f86-8c06-4073-8f1f-385bbf07b9b6"
      },
      "execution_count": null,
      "outputs": [
        {
          "output_type": "stream",
          "name": "stdout",
          "text": [
            "/content\n"
          ]
        }
      ]
    },
    {
      "cell_type": "markdown",
      "source": [
        "# ***Employee***"
      ],
      "metadata": {
        "id": "ZdooJp6cixWO"
      }
    },
    {
      "cell_type": "code",
      "source": [
        "class Employee:\n",
        "    \"\"\"A simple class that describes an employee od the company.\"\"\"\n",
        "\n",
        "    tax_rate = 0.17\n",
        "    bonus_rate = 0.10\n",
        "\n",
        "    def __init__(self, first_name, last_name, salary):\n",
        "        self.first_name = first_name\n",
        "        self.last_name = last_name\n",
        "        self.salary = salary\n",
        "\n",
        "    def __str__(self):\n",
        "        return f'{self.first_name} {self.last_name}'\n",
        "\n",
        "    @property\n",
        "    def email(self):\n",
        "        return f'{self.first_name.lower()}.{self.last_name.lower()}@mail.com'\n",
        "\n",
        "    @property\n",
        "    def tax(self):\n",
        "        return round(self.salary * self.tax_rate, 2)\n",
        "\n",
        "    def apply_bonus(self):\n",
        "        self.salary = int(self.salary * (1 + self.bonus_rate))"
      ],
      "metadata": {
        "id": "yTxa7Zldiv-m"
      },
      "execution_count": null,
      "outputs": []
    },
    {
      "cell_type": "code",
      "source": [
        "emp = Employee('John', 'Rambo', 92000)"
      ],
      "metadata": {
        "id": "Jp2kZebIl3el"
      },
      "execution_count": null,
      "outputs": []
    },
    {
      "cell_type": "code",
      "source": [
        "print(emp)"
      ],
      "metadata": {
        "colab": {
          "base_uri": "https://localhost:8080/"
        },
        "id": "IcdUHNknmAsN",
        "outputId": "0462aacb-6d17-47dd-a1f0-3e027746e6b1"
      },
      "execution_count": null,
      "outputs": [
        {
          "output_type": "stream",
          "name": "stdout",
          "text": [
            "John Rambo\n"
          ]
        }
      ]
    },
    {
      "cell_type": "code",
      "source": [
        "emp.email"
      ],
      "metadata": {
        "colab": {
          "base_uri": "https://localhost:8080/",
          "height": 35
        },
        "id": "sPVXPXq7mDCN",
        "outputId": "147976f8-6650-462b-f157-23f046e97b5f"
      },
      "execution_count": null,
      "outputs": [
        {
          "output_type": "execute_result",
          "data": {
            "text/plain": [
              "'john.rambo@mail.com'"
            ],
            "application/vnd.google.colaboratory.intrinsic+json": {
              "type": "string"
            }
          },
          "metadata": {},
          "execution_count": 56
        }
      ]
    },
    {
      "cell_type": "code",
      "source": [
        "emp.tax"
      ],
      "metadata": {
        "colab": {
          "base_uri": "https://localhost:8080/"
        },
        "id": "xH-DTOrjmOY8",
        "outputId": "d3c5fdf0-a43b-4fb5-d1e5-a13e969f0582"
      },
      "execution_count": null,
      "outputs": [
        {
          "output_type": "execute_result",
          "data": {
            "text/plain": [
              "15640.0"
            ]
          },
          "metadata": {},
          "execution_count": 57
        }
      ]
    },
    {
      "cell_type": "code",
      "source": [
        "emp.apply_bonus()"
      ],
      "metadata": {
        "id": "0L58GJTImUl0"
      },
      "execution_count": null,
      "outputs": []
    },
    {
      "cell_type": "code",
      "source": [
        "emp.salary"
      ],
      "metadata": {
        "colab": {
          "base_uri": "https://localhost:8080/"
        },
        "id": "sd_2i3swmgg1",
        "outputId": "cbcb181e-6300-42f0-ef36-da88ff07a1fd"
      },
      "execution_count": null,
      "outputs": [
        {
          "output_type": "execute_result",
          "data": {
            "text/plain": [
              "101200"
            ]
          },
          "metadata": {},
          "execution_count": 59
        }
      ]
    },
    {
      "cell_type": "code",
      "source": [
        "!mkdir -p employee\n",
        "!mkdir -p tests"
      ],
      "metadata": {
        "id": "GzAcJlpDnVLz"
      },
      "execution_count": null,
      "outputs": []
    },
    {
      "cell_type": "code",
      "source": [
        "%%writefile employee/__init__.py"
      ],
      "metadata": {
        "colab": {
          "base_uri": "https://localhost:8080/"
        },
        "id": "XxV8N8LYnYyY",
        "outputId": "5bc8aab2-71da-499a-8b03-27884d66fdc9"
      },
      "execution_count": null,
      "outputs": [
        {
          "output_type": "stream",
          "name": "stdout",
          "text": [
            "Writing employee/__init__.py\n"
          ]
        }
      ]
    },
    {
      "cell_type": "code",
      "source": [
        "%%writefile tests/__init__.py"
      ],
      "metadata": {
        "colab": {
          "base_uri": "https://localhost:8080/"
        },
        "id": "Q4hSUnCinY7w",
        "outputId": "50558a8b-413c-4e31-ec91-43d6810e63b5"
      },
      "execution_count": null,
      "outputs": [
        {
          "output_type": "stream",
          "name": "stdout",
          "text": [
            "Overwriting tests/__init__.py\n"
          ]
        }
      ]
    },
    {
      "cell_type": "code",
      "source": [
        "%%writefile employee/emp.py\n",
        "class Employee:\n",
        "    \"\"\"A simple class that describes an employee od the company.\"\"\"\n",
        "\n",
        "    tax_rate = 0.17\n",
        "    bonus_rate = 0.10\n",
        "\n",
        "    def __init__(self, first_name, last_name, salary):\n",
        "        self.first_name = first_name\n",
        "        self.last_name = last_name\n",
        "        self.salary = salary\n",
        "\n",
        "    def __str__(self):\n",
        "        return f'{self.first_name} {self.last_name}'\n",
        "\n",
        "    @property\n",
        "    def email(self):\n",
        "        return f'{self.first_name.lower()}.{self.last_name.lower()}@mail.com'\n",
        "\n",
        "    @property\n",
        "    def tax(self):\n",
        "        return round(self.salary * self.tax_rate, 2)\n",
        "\n",
        "    def apply_bonus(self):\n",
        "        self.salary = int(self.salary * (1 + self.bonus_rate))"
      ],
      "metadata": {
        "colab": {
          "base_uri": "https://localhost:8080/"
        },
        "id": "A4zmBVIknEN2",
        "outputId": "7beee80e-55d0-4c88-a6b1-abcfa8f660f7"
      },
      "execution_count": null,
      "outputs": [
        {
          "output_type": "stream",
          "name": "stdout",
          "text": [
            "Writing employee/emp.py\n"
          ]
        }
      ]
    },
    {
      "cell_type": "code",
      "source": [
        "%%writefile tests/test_emp.py\n",
        "from employee.emp import Employee\n",
        "import unittest\n",
        "\n",
        "\n",
        "class TestEmp(unittest.TestCase):\n",
        "\n",
        "    def setUp(self):\n",
        "        print('setting up class...')\n",
        "        self.emp = Employee('Antonio', 'Banderas', 111111)\n",
        "\n",
        "    def tearDown(self):\n",
        "        print('tearing down class...')\n",
        "        del self.emp\n",
        "\n",
        "    def test_str(self):\n",
        "        self.assertEqual(str(self.emp), 'Antonio Banderas')\n",
        "\n",
        "    def test_first_name_original(self):\n",
        "        self.assertEqual(self.emp.first_name, 'Antonio')\n",
        "\n",
        "    def test_last_name_original(self):\n",
        "        self.assertEqual(self.emp.last_name, 'Banderas')\n",
        "\n",
        "    def test_salary(self):\n",
        "        self.assertEqual(self.emp.salary, 111111)\n",
        "\n",
        "    def test_email(self):\n",
        "        self.assertEqual(self.emp.email, 'antonio.banderas@mail.com')\n",
        "\n",
        "    def test_tax(self):\n",
        "        self.assertEqual(self.emp.tax, 18888.87)\n",
        "\n",
        "    def test_salary_with_bonus(self):\n",
        "        self.emp.apply_bonus()\n",
        "        self.assertEqual(self.emp.salary, 122222)"
      ],
      "metadata": {
        "colab": {
          "base_uri": "https://localhost:8080/"
        },
        "id": "HCPbnZMKnsGc",
        "outputId": "c8148445-b088-4730-8d1e-86e68d1494ee"
      },
      "execution_count": null,
      "outputs": [
        {
          "output_type": "stream",
          "name": "stdout",
          "text": [
            "Overwriting tests/test_emp.py\n"
          ]
        }
      ]
    },
    {
      "cell_type": "code",
      "source": [
        "!pytest tests/test_emp.py -v"
      ],
      "metadata": {
        "colab": {
          "base_uri": "https://localhost:8080/"
        },
        "id": "VIMLWjORn8Ks",
        "outputId": "5136316b-07e3-4483-e736-14140d72b9f0"
      },
      "execution_count": null,
      "outputs": [
        {
          "output_type": "stream",
          "name": "stdout",
          "text": [
            "\u001b[1m======================================= test session starts ========================================\u001b[0m\n",
            "platform linux -- Python 3.10.12, pytest-7.4.4, pluggy-1.4.0 -- /usr/bin/python3\n",
            "cachedir: .pytest_cache\n",
            "rootdir: /content\n",
            "plugins: anyio-3.7.1\n",
            "\u001b[1mcollecting ... \u001b[0m\u001b[1m\rcollected 7 items                                                                                  \u001b[0m\n",
            "\n",
            "tests/test_emp.py::TestEmp::test_email \u001b[32mPASSED\u001b[0m\u001b[32m                                                [ 14%]\u001b[0m\n",
            "tests/test_emp.py::TestEmp::test_first_name_original \u001b[32mPASSED\u001b[0m\u001b[32m                                  [ 28%]\u001b[0m\n",
            "tests/test_emp.py::TestEmp::test_last_name_original \u001b[32mPASSED\u001b[0m\u001b[32m                                   [ 42%]\u001b[0m\n",
            "tests/test_emp.py::TestEmp::test_salary \u001b[32mPASSED\u001b[0m\u001b[32m                                               [ 57%]\u001b[0m\n",
            "tests/test_emp.py::TestEmp::test_salary_with_bonus \u001b[32mPASSED\u001b[0m\u001b[32m                                    [ 71%]\u001b[0m\n",
            "tests/test_emp.py::TestEmp::test_str \u001b[32mPASSED\u001b[0m\u001b[32m                                                  [ 85%]\u001b[0m\n",
            "tests/test_emp.py::TestEmp::test_tax \u001b[32mPASSED\u001b[0m\u001b[32m                                                  [100%]\u001b[0m\n",
            "\n",
            "\u001b[32m======================================== \u001b[32m\u001b[1m7 passed\u001b[0m\u001b[32m in 0.03s\u001b[0m\u001b[32m =========================================\u001b[0m\n"
          ]
        }
      ]
    },
    {
      "cell_type": "markdown",
      "source": [
        "# ***Testy parametryzowane***"
      ],
      "metadata": {
        "id": "HUuvbgKC0i3w"
      }
    },
    {
      "cell_type": "code",
      "source": [
        "!mkdir -p calculator\n",
        "!mkdir -p tests"
      ],
      "metadata": {
        "id": "g_P_DCGtqU8F"
      },
      "execution_count": null,
      "outputs": []
    },
    {
      "cell_type": "code",
      "source": [
        "%%writefile calculator/__init__.py"
      ],
      "metadata": {
        "colab": {
          "base_uri": "https://localhost:8080/"
        },
        "id": "P61g1SUQ1DPu",
        "outputId": "54ab61a5-db4e-40a5-d899-18a3f412c627"
      },
      "execution_count": null,
      "outputs": [
        {
          "output_type": "stream",
          "name": "stdout",
          "text": [
            "Overwriting calculator/__init__.py\n"
          ]
        }
      ]
    },
    {
      "cell_type": "code",
      "source": [
        "%%writefile tests/__init__.py"
      ],
      "metadata": {
        "colab": {
          "base_uri": "https://localhost:8080/"
        },
        "id": "9j0QFU2h1KQW",
        "outputId": "ad65da9c-6647-4223-f3b9-fcee3ca426bc"
      },
      "execution_count": null,
      "outputs": [
        {
          "output_type": "stream",
          "name": "stdout",
          "text": [
            "Overwriting tests/__init__.py\n"
          ]
        }
      ]
    },
    {
      "cell_type": "code",
      "source": [
        "%%writefile calculator/calc_math.py\n",
        "class SimpleMathCalculator:\n",
        "\n",
        "    def add(self, x, y):\n",
        "        return x + y\n",
        "\n",
        "    def sub(self, x, y):\n",
        "        return x - y\n",
        "\n",
        "    def mul(self, x, y):\n",
        "        return x * y\n",
        "\n",
        "    def true_div(self, x, y):\n",
        "        return x / y\n",
        "\n",
        "    def floor_div(self, x, y):\n",
        "        return x // y"
      ],
      "metadata": {
        "colab": {
          "base_uri": "https://localhost:8080/"
        },
        "id": "_uoGU9pL1Kyu",
        "outputId": "51377f8c-49c9-4bd1-f820-2e8aaace5d81"
      },
      "execution_count": null,
      "outputs": [
        {
          "output_type": "stream",
          "name": "stdout",
          "text": [
            "Overwriting calculator/calc_math.py\n"
          ]
        }
      ]
    },
    {
      "cell_type": "code",
      "source": [
        "%%writefile tests/test_calc_math.py\n",
        "import unittest\n",
        "from calculator.calc_math import SimpleMathCalculator\n",
        "\n",
        "\n",
        "class TestSimpleMathCalculator(unittest.TestCase):\n",
        "\n",
        "    def setUp(self):\n",
        "        self.calc = SimpleMathCalculator()\n",
        "\n",
        "    def tearDown(self):\n",
        "        pass\n",
        "\n",
        "    def test_add(self):\n",
        "        self.assertEqual(self.calc.add(4, 3), 7)\n",
        "        self.assertEqual(self.calc.add(-4, 3), -1)\n",
        "        self.assertEqual(self.calc.add(0, 0), 0)\n",
        "        self.assertEqual(self.calc.add(-1, -10), -11)"
      ],
      "metadata": {
        "colab": {
          "base_uri": "https://localhost:8080/"
        },
        "id": "3rniT7HP1RIu",
        "outputId": "f38c3d9c-3690-439f-db7a-d335a261503e"
      },
      "execution_count": null,
      "outputs": [
        {
          "output_type": "stream",
          "name": "stdout",
          "text": [
            "Overwriting tests/test_calc_math.py\n"
          ]
        }
      ]
    },
    {
      "cell_type": "code",
      "source": [
        "!python -m unittest tests/test_calc_math.py -v"
      ],
      "metadata": {
        "colab": {
          "base_uri": "https://localhost:8080/"
        },
        "id": "iTnsyCMh1U7-",
        "outputId": "dea8b6b6-c699-4cec-8b9a-876ede7ebe24"
      },
      "execution_count": null,
      "outputs": [
        {
          "output_type": "stream",
          "name": "stdout",
          "text": [
            "test_add (tests.test_calc_math.TestSimpleMathCalculator) ... ok\n",
            "\n",
            "----------------------------------------------------------------------\n",
            "Ran 1 test in 0.000s\n",
            "\n",
            "OK\n"
          ]
        }
      ]
    },
    {
      "cell_type": "code",
      "source": [
        "%%writefile tests/test_calc_math_2.py\n",
        "import unittest\n",
        "from calculator.calc_math import SimpleMathCalculator\n",
        "\n",
        "\n",
        "class TestSimpleMathCalculator(unittest.TestCase):\n",
        "\n",
        "    def setUp(self):\n",
        "        self.calc = SimpleMathCalculator()\n",
        "\n",
        "    def test_add(self):\n",
        "        cases = [\n",
        "            (-3, -2, -5),\n",
        "            (-3, 2, 0),\n",
        "            (3, -2, 0),\n",
        "            (3, 2, 5)\n",
        "        ]\n",
        "        for x, y, result in cases:\n",
        "            with self.subTest(cases=cases):\n",
        "                self.assertEqual(self.calc.add(x, y), result)"
      ],
      "metadata": {
        "colab": {
          "base_uri": "https://localhost:8080/"
        },
        "id": "giKYjng9B6Tk",
        "outputId": "1154dcc1-ddfd-4e36-c67a-f4ea19dcd499"
      },
      "execution_count": null,
      "outputs": [
        {
          "output_type": "stream",
          "name": "stdout",
          "text": [
            "Overwriting tests/test_calc_math_2.py\n"
          ]
        }
      ]
    },
    {
      "cell_type": "code",
      "source": [
        "!python -m unittest tests/test_calc_math_2.py"
      ],
      "metadata": {
        "colab": {
          "base_uri": "https://localhost:8080/"
        },
        "id": "ld2clJbICDBt",
        "outputId": "78af4006-829f-41af-9183-8a2495609e5d"
      },
      "execution_count": null,
      "outputs": [
        {
          "output_type": "stream",
          "name": "stdout",
          "text": [
            "\n",
            "======================================================================\n",
            "FAIL: test_add (tests.test_calc_math_2.TestSimpleMathCalculator) (cases=[(-3, -2, -5), (-3, 2, 0), (3, -2, 0), (3, 2, 5)])\n",
            "----------------------------------------------------------------------\n",
            "Traceback (most recent call last):\n",
            "  File \"/content/tests/test_calc_math_2.py\", line 19, in test_add\n",
            "    self.assertEqual(self.calc.add(x, y), result)\n",
            "AssertionError: -1 != 0\n",
            "\n",
            "======================================================================\n",
            "FAIL: test_add (tests.test_calc_math_2.TestSimpleMathCalculator) (cases=[(-3, -2, -5), (-3, 2, 0), (3, -2, 0), (3, 2, 5)])\n",
            "----------------------------------------------------------------------\n",
            "Traceback (most recent call last):\n",
            "  File \"/content/tests/test_calc_math_2.py\", line 19, in test_add\n",
            "    self.assertEqual(self.calc.add(x, y), result)\n",
            "AssertionError: 1 != 0\n",
            "\n",
            "----------------------------------------------------------------------\n",
            "Ran 1 test in 0.001s\n",
            "\n",
            "FAILED (failures=2)\n"
          ]
        }
      ]
    },
    {
      "cell_type": "code",
      "source": [
        "%pip install parameterized"
      ],
      "metadata": {
        "colab": {
          "base_uri": "https://localhost:8080/"
        },
        "id": "6mg9SdKgF7NK",
        "outputId": "b772beb6-9986-48a7-b8b6-9300127e734e"
      },
      "execution_count": null,
      "outputs": [
        {
          "output_type": "stream",
          "name": "stdout",
          "text": [
            "Collecting parameterized\n",
            "  Downloading parameterized-0.9.0-py2.py3-none-any.whl (20 kB)\n",
            "Installing collected packages: parameterized\n",
            "Successfully installed parameterized-0.9.0\n"
          ]
        }
      ]
    },
    {
      "cell_type": "code",
      "source": [
        "%%writefile tests/test_calc_math_3.py\n",
        "import unittest\n",
        "from parameterized import parameterized\n",
        "from calculator.calc_math import SimpleMathCalculator\n",
        "\n",
        "\n",
        "class TestSimpleMathCalculator(unittest.TestCase):\n",
        "\n",
        "    def setUp(self):\n",
        "        self.calc = SimpleMathCalculator()\n",
        "\n",
        "    @parameterized.expand([\n",
        "            ('negative', -3, -2, -5),\n",
        "            ('mix', -3, 2, -1),\n",
        "            ('positive', 3, -2, 1),\n",
        "            ('positive', 3, 2, 5)\n",
        "    ])\n",
        "    def test_add(self, name, x, y, result):\n",
        "        self.assertEqual(self.calc.add(x, y), result)"
      ],
      "metadata": {
        "colab": {
          "base_uri": "https://localhost:8080/"
        },
        "id": "H2bEjtj3FtBW",
        "outputId": "5b5e4f5d-86ac-4cfc-c694-d27c78a7284f"
      },
      "execution_count": null,
      "outputs": [
        {
          "output_type": "stream",
          "name": "stdout",
          "text": [
            "Overwriting tests/test_calc_math_3.py\n"
          ]
        }
      ]
    },
    {
      "cell_type": "code",
      "source": [
        "!python -m unittest tests/test_calc_math_3.py -v"
      ],
      "metadata": {
        "colab": {
          "base_uri": "https://localhost:8080/"
        },
        "id": "v1CStc9GFu8c",
        "outputId": "6e7b9a25-af68-4b4f-b5be-790fb21aae15"
      },
      "execution_count": null,
      "outputs": [
        {
          "output_type": "stream",
          "name": "stdout",
          "text": [
            "test_add_0_negative (tests.test_calc_math_3.TestSimpleMathCalculator) ... ok\n",
            "test_add_1_mix (tests.test_calc_math_3.TestSimpleMathCalculator) ... ok\n",
            "test_add_2_positive (tests.test_calc_math_3.TestSimpleMathCalculator) ... ok\n",
            "test_add_3_positive (tests.test_calc_math_3.TestSimpleMathCalculator) ... ok\n",
            "\n",
            "----------------------------------------------------------------------\n",
            "Ran 4 tests in 0.000s\n",
            "\n",
            "OK\n"
          ]
        }
      ]
    },
    {
      "cell_type": "markdown",
      "source": [
        "# ***Shopping Basket***"
      ],
      "metadata": {
        "id": "B0-Y6rFZHSb2"
      }
    },
    {
      "cell_type": "code",
      "source": [
        "%pip install parametrized"
      ],
      "metadata": {
        "colab": {
          "base_uri": "https://localhost:8080/"
        },
        "id": "ucbBbe8BU4HE",
        "outputId": "d6080fa8-f9c0-49dd-bb07-9696bf819c3f"
      },
      "execution_count": 51,
      "outputs": [
        {
          "output_type": "stream",
          "name": "stdout",
          "text": [
            "Collecting parametrized\n",
            "  Downloading parametrized-66.0.2.tar.gz (1.0 kB)\n",
            "  Preparing metadata (setup.py) ... \u001b[?25l\u001b[?25hdone\n",
            "Building wheels for collected packages: parametrized\n",
            "  Building wheel for parametrized (setup.py) ... \u001b[?25l\u001b[?25hdone\n",
            "  Created wheel for parametrized: filename=parametrized-66.0.2-py3-none-any.whl size=1197 sha256=01b6ecc286c1bebc1628011544101adfac440bec1fe045b50b766bf29841759b\n",
            "  Stored in directory: /root/.cache/pip/wheels/1c/f6/fd/3327515b87f02ebe8f819b9713dda8005e77219d527e8df92e\n",
            "Successfully built parametrized\n",
            "Installing collected packages: parametrized\n",
            "Successfully installed parametrized-66.0.2\n"
          ]
        }
      ]
    },
    {
      "cell_type": "code",
      "source": [
        "!mkdir shopping\n",
        "!mkdir tests"
      ],
      "metadata": {
        "id": "12wrpcziF4Qz",
        "colab": {
          "base_uri": "https://localhost:8080/"
        },
        "outputId": "1de39129-f671-4635-dee6-291e955af30b"
      },
      "execution_count": 7,
      "outputs": [
        {
          "output_type": "stream",
          "name": "stdout",
          "text": [
            "mkdir: cannot create directory ‘shopping’: File exists\n",
            "mkdir: cannot create directory ‘tests’: File exists\n"
          ]
        }
      ]
    },
    {
      "cell_type": "code",
      "source": [
        "%%writefile shopping/__init__.py"
      ],
      "metadata": {
        "colab": {
          "base_uri": "https://localhost:8080/"
        },
        "id": "KnHbORocH2q1",
        "outputId": "a751c27c-2aec-4f49-f30a-f8c78079b354"
      },
      "execution_count": 8,
      "outputs": [
        {
          "output_type": "stream",
          "name": "stdout",
          "text": [
            "Overwriting shopping/__init__.py\n"
          ]
        }
      ]
    },
    {
      "cell_type": "code",
      "source": [
        "%%writefile tests/__init__.py"
      ],
      "metadata": {
        "colab": {
          "base_uri": "https://localhost:8080/"
        },
        "id": "ziv-JZFQH6mm",
        "outputId": "b75b13fb-ba07-4f6a-f09f-13096d2ea146"
      },
      "execution_count": 9,
      "outputs": [
        {
          "output_type": "stream",
          "name": "stdout",
          "text": [
            "Overwriting tests/__init__.py\n"
          ]
        }
      ]
    },
    {
      "cell_type": "code",
      "source": [
        "%%writefile shopping/product.py\n",
        "class Product:\n",
        "\n",
        "    def __init__(self, name, price, quantity=1):\n",
        "        self.name = name\n",
        "        self.price = price\n",
        "        self.quantity = quantity\n",
        "\n",
        "    def __repr__(self):\n",
        "        return (f\"Product(name='{self.name}', price={self.price}, \"\n",
        "                f\"quantity={self.quantity})\")"
      ],
      "metadata": {
        "colab": {
          "base_uri": "https://localhost:8080/"
        },
        "id": "-UDCLHCAIKJa",
        "outputId": "c928e931-ad4f-432a-fdc1-9dea87e3403a"
      },
      "execution_count": 10,
      "outputs": [
        {
          "output_type": "stream",
          "name": "stdout",
          "text": [
            "Overwriting shopping/product.py\n"
          ]
        }
      ]
    },
    {
      "cell_type": "code",
      "source": [
        "%%writefile shopping/basket.py\n",
        "from shopping.product import Product\n",
        "\n",
        "\n",
        "class ShoppingBasket:\n",
        "\n",
        "    def __init__(self):\n",
        "        self.products = []\n",
        "\n",
        "    def __len__(self):\n",
        "        return sum([product.quantity for product in self.products])\n",
        "\n",
        "    def add_product(self, name, price):\n",
        "        for product in self.products:\n",
        "            if product.name == name:\n",
        "                product.quantity += 1\n",
        "                return self\n",
        "        self.products.append(Product(name, price))\n",
        "        return self\n",
        "\n",
        "    def get_product(self, index):\n",
        "        return self.products[index]\n",
        "\n",
        "    def total(self, tax=23):\n",
        "        net_value = sum([product.price * product.quantity\n",
        "                         for product in self.products])\n",
        "        return round(net_value * (1 + tax / 100.0), 2)\n",
        "\n",
        "    def display_basket(self):\n",
        "        print('In basket:')\n",
        "        for product in self.products:\n",
        "            print(f'\\t{product}')"
      ],
      "metadata": {
        "colab": {
          "base_uri": "https://localhost:8080/"
        },
        "id": "-EoSMZaUJV-A",
        "outputId": "c23435a4-94c8-40bb-c1ba-0d7454c31be0"
      },
      "execution_count": 13,
      "outputs": [
        {
          "output_type": "stream",
          "name": "stdout",
          "text": [
            "Writing shopping/basket.py\n"
          ]
        }
      ]
    },
    {
      "cell_type": "code",
      "source": [
        "%%writefile tests/test_shopping.py\n",
        "import unittest\n",
        "from shopping.basket import ShoppingBasket\n",
        "\n",
        "\n",
        "class TestShoppingBasketWithNoProducts(unittest.TestCase):\n",
        "\n",
        "    @classmethod\n",
        "    def setUp(cls):\n",
        "        print('\\n[INFO] Setting up basket without any products...')\n",
        "        cls.basket = ShoppingBasket()\n",
        "\n",
        "    def test_size_of_basket_sholud_be_empty(self):\n",
        "        self.assertEqual(len(self.basket), 0)\n",
        "\n",
        "    def test_getting_product_out_of_range_should_raise_error(self):\n",
        "        self.assertRaises(IndexError, self.basket.get_product, 0)\n",
        "\n",
        "    def test_total_amount_should_be_zero(self):\n",
        "        self.assertEqual(self.basket.total(), 0)\n",
        "\n",
        "\n",
        "class TestShoppingBasketWithOneProduct(unittest.TestCase):\n",
        "\n",
        "    @classmethod\n",
        "    def setUp(cls):\n",
        "        print('\\n[INFO] Setting up basket with one product...')\n",
        "        cls.basket = ShoppingBasket().add_product('milk', 3.0)\n",
        "\n",
        "    def test_size_of_basket_sholud_be_one(self):\n",
        "        self.assertEqual(len(self.basket), 1)\n",
        "\n",
        "    def test_total_amount_should_have_tax(self):\n",
        "        self.assertAlmostEqual(self.basket.total(), 3.69)\n",
        "\n",
        "    def test_getting_product(self):\n",
        "        self.assertEqual('milk', self.basket.get_product(0).name)\n",
        "\n",
        "    def test_getting_product_out_of_range_should_raise_error(self):\n",
        "        self.assertRaises(IndexError, self.basket.get_product, 1)\n",
        "\n",
        "\n",
        "class TestShoppingBasketWithTwoProduct(unittest.TestCase):\n",
        "\n",
        "    @classmethod\n",
        "    def setUp(cls):\n",
        "        print('\\n[INFO] Setting up basket with two products...')\n",
        "        cls.basket = ShoppingBasket() \\\n",
        "            .add_product('milk', 3.0) \\\n",
        "            .add_product('water', 2.0)\n",
        "\n",
        "    def test_size_of_basket_sholud_be_two(self):\n",
        "        self.assertEqual(len(self.basket), 2)\n",
        "\n",
        "    def test_total_amount_should_have_tax(self):\n",
        "        self.assertAlmostEqual(self.basket.total(), 6.15)\n",
        "\n",
        "    def test_getting_product(self):\n",
        "        self.assertEqual(self.basket.get_product(0).name, 'milk')\n",
        "        self.assertEqual(self.basket.get_product(0).price, 3.0)\n",
        "        self.assertEqual(self.basket.get_product(0).name, 'water')\n",
        "        self.assertEqual(self.basket.get_product(0).price, 2.0)\n",
        "\n",
        "    def test_getting_product_out_of_range_should_raise_error(self):\n",
        "        self.assertRaises(IndexError, self.basket.get_product, 2)"
      ],
      "metadata": {
        "colab": {
          "base_uri": "https://localhost:8080/"
        },
        "id": "2_UpGcnFNS6Z",
        "outputId": "d8b64679-cbc3-409b-80f4-43927dd6e9ba"
      },
      "execution_count": 56,
      "outputs": [
        {
          "output_type": "stream",
          "name": "stdout",
          "text": [
            "Overwriting tests/test_shopping.py\n"
          ]
        }
      ]
    },
    {
      "cell_type": "code",
      "source": [
        "!python -m unittest tests/test_shopping.py -v"
      ],
      "metadata": {
        "id": "a8mYoQY-OuS8",
        "colab": {
          "base_uri": "https://localhost:8080/"
        },
        "outputId": "63d5bb17-12cb-4148-93e5-3a361267569a"
      },
      "execution_count": 57,
      "outputs": [
        {
          "output_type": "stream",
          "name": "stdout",
          "text": [
            "test_getting_product_out_of_range_should_raise_error (tests.test_shopping.TestShoppingBasketWithNoProducts) ... \n",
            "[INFO] Setting up basket without any products...\n",
            "ok\n",
            "test_size_of_basket_sholud_be_empty (tests.test_shopping.TestShoppingBasketWithNoProducts) ... \n",
            "[INFO] Setting up basket without any products...\n",
            "ok\n",
            "test_total_amount_should_be_zero (tests.test_shopping.TestShoppingBasketWithNoProducts) ... \n",
            "[INFO] Setting up basket without any products...\n",
            "ok\n",
            "test_getting_product (tests.test_shopping.TestShoppingBasketWithOneProduct) ... \n",
            "[INFO] Setting up basket with one product...\n",
            "ok\n",
            "test_getting_product_out_of_range_should_raise_error (tests.test_shopping.TestShoppingBasketWithOneProduct) ... \n",
            "[INFO] Setting up basket with one product...\n",
            "ok\n",
            "test_size_of_basket_sholud_be_one (tests.test_shopping.TestShoppingBasketWithOneProduct) ... \n",
            "[INFO] Setting up basket with one product...\n",
            "ok\n",
            "test_total_amount_should_have_tax (tests.test_shopping.TestShoppingBasketWithOneProduct) ... \n",
            "[INFO] Setting up basket with one product...\n",
            "ok\n",
            "test_getting_product (tests.test_shopping.TestShoppingBasketWithTwoProduct) ... \n",
            "[INFO] Setting up basket with two products...\n",
            "FAIL\n",
            "test_getting_product_out_of_range_should_raise_error (tests.test_shopping.TestShoppingBasketWithTwoProduct) ... \n",
            "[INFO] Setting up basket with two products...\n",
            "ok\n",
            "test_size_of_basket_sholud_be_two (tests.test_shopping.TestShoppingBasketWithTwoProduct) ... \n",
            "[INFO] Setting up basket with two products...\n",
            "ok\n",
            "test_total_amount_should_have_tax (tests.test_shopping.TestShoppingBasketWithTwoProduct) ... \n",
            "[INFO] Setting up basket with two products...\n",
            "ok\n",
            "\n",
            "======================================================================\n",
            "FAIL: test_getting_product (tests.test_shopping.TestShoppingBasketWithTwoProduct)\n",
            "----------------------------------------------------------------------\n",
            "Traceback (most recent call last):\n",
            "  File \"/content/tests/test_shopping.py\", line 60, in test_getting_product\n",
            "    self.assertEqual(self.basket.get_product(0).name, 'water')\n",
            "AssertionError: 'milk' != 'water'\n",
            "- milk\n",
            "+ water\n",
            "\n",
            "\n",
            "----------------------------------------------------------------------\n",
            "Ran 11 tests in 0.002s\n",
            "\n",
            "FAILED (failures=1)\n"
          ]
        }
      ]
    }
  ]
}